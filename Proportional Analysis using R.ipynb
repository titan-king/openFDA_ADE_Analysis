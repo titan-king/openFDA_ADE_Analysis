{
 "cells": [
  {
   "cell_type": "code",
   "execution_count": 9,
   "metadata": {},
   "outputs": [
    {
     "ename": "ERROR",
     "evalue": "Error in install.packages(openEBGM): object 'openEBGM' not found\n",
     "output_type": "error",
     "traceback": [
      "Error in install.packages(openEBGM): object 'openEBGM' not found\nTraceback:\n",
      "1. install.packages(openEBGM)"
     ]
    }
   ],
   "source": [
    "install.packages(openEBGM)"
   ]
  },
  {
   "cell_type": "code",
   "execution_count": 10,
   "metadata": {},
   "outputs": [],
   "source": [
    "library(openEBGM)"
   ]
  },
  {
   "cell_type": "code",
   "execution_count": 11,
   "metadata": {},
   "outputs": [],
   "source": [
    "df<-read.csv('./data/product_event.csv')"
   ]
  },
  {
   "cell_type": "code",
   "execution_count": 14,
   "metadata": {},
   "outputs": [
    {
     "data": {
      "text/html": [
       "<table>\n",
       "<caption>A data.frame: 4 × 1250</caption>\n",
       "<thead>\n",
       "\t<tr><th></th><th scope=col>Drug.Name</th><th scope=col>Metastases.to.bone</th><th scope=col>Osteonecrosis.of.jaw</th><th scope=col>Epilepsy</th><th scope=col>Stomatitis</th><th scope=col>Angioedema</th><th scope=col>Flushing</th><th scope=col>Erythema</th><th scope=col>Skin.exfoliation</th><th scope=col>Swelling</th><th scope=col>⋯</th><th scope=col>TYPE.2.DIABETES.MELLITUS</th><th scope=col>TYPE.1.DIABETES.MELLITUS</th><th scope=col>POISONING</th><th scope=col>HEPATITIS</th><th scope=col>INCORRECT.DOSE.ADMINISTERED</th><th scope=col>WITHDRAWAL.SYNDROME</th><th scope=col>DRUG.WITHDRAWAL.SYNDROME.NEONATAL</th><th scope=col>POISONING.DELIBERATE</th><th scope=col>SOMNAMBULISM</th><th scope=col>DRUG.ABUSE</th></tr>\n",
       "\t<tr><th></th><th scope=col>&lt;chr&gt;</th><th scope=col>&lt;dbl&gt;</th><th scope=col>&lt;dbl&gt;</th><th scope=col>&lt;dbl&gt;</th><th scope=col>&lt;int&gt;</th><th scope=col>&lt;dbl&gt;</th><th scope=col>&lt;dbl&gt;</th><th scope=col>&lt;dbl&gt;</th><th scope=col>&lt;dbl&gt;</th><th scope=col>&lt;dbl&gt;</th><th scope=col>⋯</th><th scope=col>&lt;dbl&gt;</th><th scope=col>&lt;dbl&gt;</th><th scope=col>&lt;dbl&gt;</th><th scope=col>&lt;dbl&gt;</th><th scope=col>&lt;dbl&gt;</th><th scope=col>&lt;dbl&gt;</th><th scope=col>&lt;dbl&gt;</th><th scope=col>&lt;dbl&gt;</th><th scope=col>&lt;dbl&gt;</th><th scope=col>&lt;dbl&gt;</th></tr>\n",
       "</thead>\n",
       "<tbody>\n",
       "\t<tr><th scope=row>1</th><td>afinitor  </td><td>240</td><td>127</td><td> 20</td><td>667</td><td>28</td><td>49</td><td>102</td><td>37</td><td>63</td><td>⋯</td><td> 0</td><td> 0</td><td>  0</td><td> 0</td><td> 0</td><td> 0</td><td> 0</td><td> 0</td><td> 0</td><td> 0</td></tr>\n",
       "\t<tr><th scope=row>2</th><td>avastin   </td><td> 89</td><td>143</td><td> 61</td><td>305</td><td> 0</td><td>37</td><td>158</td><td> 0</td><td> 0</td><td>⋯</td><td> 0</td><td> 0</td><td>  0</td><td> 0</td><td> 0</td><td> 0</td><td> 0</td><td> 0</td><td> 0</td><td> 0</td></tr>\n",
       "\t<tr><th scope=row>3</th><td>carmustine</td><td>  0</td><td>  0</td><td>  0</td><td> 23</td><td> 0</td><td> 0</td><td>  0</td><td> 0</td><td> 0</td><td>⋯</td><td> 0</td><td> 0</td><td>  0</td><td> 0</td><td> 0</td><td> 0</td><td> 0</td><td> 0</td><td> 0</td><td> 0</td></tr>\n",
       "\t<tr><th scope=row>4</th><td>QUETIAPINE</td><td>  0</td><td>  0</td><td>100</td><td> 31</td><td>38</td><td> 0</td><td> 68</td><td>24</td><td> 0</td><td>⋯</td><td>65</td><td>21</td><td>120</td><td>26</td><td>36</td><td>21</td><td>20</td><td>30</td><td>26</td><td>36</td></tr>\n",
       "</tbody>\n",
       "</table>\n"
      ],
      "text/latex": [
       "A data.frame: 4 × 1250\n",
       "\\begin{tabular}{r|lllllllllllllllllllll}\n",
       "  & Drug.Name & Metastases.to.bone & Osteonecrosis.of.jaw & Epilepsy & Stomatitis & Angioedema & Flushing & Erythema & Skin.exfoliation & Swelling & ⋯ & TYPE.2.DIABETES.MELLITUS & TYPE.1.DIABETES.MELLITUS & POISONING & HEPATITIS & INCORRECT.DOSE.ADMINISTERED & WITHDRAWAL.SYNDROME & DRUG.WITHDRAWAL.SYNDROME.NEONATAL & POISONING.DELIBERATE & SOMNAMBULISM & DRUG.ABUSE\\\\\n",
       "  & <chr> & <dbl> & <dbl> & <dbl> & <int> & <dbl> & <dbl> & <dbl> & <dbl> & <dbl> & ⋯ & <dbl> & <dbl> & <dbl> & <dbl> & <dbl> & <dbl> & <dbl> & <dbl> & <dbl> & <dbl>\\\\\n",
       "\\hline\n",
       "\t1 & afinitor   & 240 & 127 &  20 & 667 & 28 & 49 & 102 & 37 & 63 & ⋯ &  0 &  0 &   0 &  0 &  0 &  0 &  0 &  0 &  0 &  0\\\\\n",
       "\t2 & avastin    &  89 & 143 &  61 & 305 &  0 & 37 & 158 &  0 &  0 & ⋯ &  0 &  0 &   0 &  0 &  0 &  0 &  0 &  0 &  0 &  0\\\\\n",
       "\t3 & carmustine &   0 &   0 &   0 &  23 &  0 &  0 &   0 &  0 &  0 & ⋯ &  0 &  0 &   0 &  0 &  0 &  0 &  0 &  0 &  0 &  0\\\\\n",
       "\t4 & QUETIAPINE &   0 &   0 & 100 &  31 & 38 &  0 &  68 & 24 &  0 & ⋯ & 65 & 21 & 120 & 26 & 36 & 21 & 20 & 30 & 26 & 36\\\\\n",
       "\\end{tabular}\n"
      ],
      "text/markdown": [
       "\n",
       "A data.frame: 4 × 1250\n",
       "\n",
       "| <!--/--> | Drug.Name &lt;chr&gt; | Metastases.to.bone &lt;dbl&gt; | Osteonecrosis.of.jaw &lt;dbl&gt; | Epilepsy &lt;dbl&gt; | Stomatitis &lt;int&gt; | Angioedema &lt;dbl&gt; | Flushing &lt;dbl&gt; | Erythema &lt;dbl&gt; | Skin.exfoliation &lt;dbl&gt; | Swelling &lt;dbl&gt; | ⋯ ⋯ | TYPE.2.DIABETES.MELLITUS &lt;dbl&gt; | TYPE.1.DIABETES.MELLITUS &lt;dbl&gt; | POISONING &lt;dbl&gt; | HEPATITIS &lt;dbl&gt; | INCORRECT.DOSE.ADMINISTERED &lt;dbl&gt; | WITHDRAWAL.SYNDROME &lt;dbl&gt; | DRUG.WITHDRAWAL.SYNDROME.NEONATAL &lt;dbl&gt; | POISONING.DELIBERATE &lt;dbl&gt; | SOMNAMBULISM &lt;dbl&gt; | DRUG.ABUSE &lt;dbl&gt; |\n",
       "|---|---|---|---|---|---|---|---|---|---|---|---|---|---|---|---|---|---|---|---|---|---|\n",
       "| 1 | afinitor   | 240 | 127 |  20 | 667 | 28 | 49 | 102 | 37 | 63 | ⋯ |  0 |  0 |   0 |  0 |  0 |  0 |  0 |  0 |  0 |  0 |\n",
       "| 2 | avastin    |  89 | 143 |  61 | 305 |  0 | 37 | 158 |  0 |  0 | ⋯ |  0 |  0 |   0 |  0 |  0 |  0 |  0 |  0 |  0 |  0 |\n",
       "| 3 | carmustine |   0 |   0 |   0 |  23 |  0 |  0 |   0 |  0 |  0 | ⋯ |  0 |  0 |   0 |  0 |  0 |  0 |  0 |  0 |  0 |  0 |\n",
       "| 4 | QUETIAPINE |   0 |   0 | 100 |  31 | 38 |  0 |  68 | 24 |  0 | ⋯ | 65 | 21 | 120 | 26 | 36 | 21 | 20 | 30 | 26 | 36 |\n",
       "\n"
      ],
      "text/plain": [
       "  Drug.Name  Metastases.to.bone Osteonecrosis.of.jaw Epilepsy Stomatitis\n",
       "1 afinitor   240                127                   20      667       \n",
       "2 avastin     89                143                   61      305       \n",
       "3 carmustine   0                  0                    0       23       \n",
       "4 QUETIAPINE   0                  0                  100       31       \n",
       "  Angioedema Flushing Erythema Skin.exfoliation Swelling ⋯\n",
       "1 28         49       102      37               63       ⋯\n",
       "2  0         37       158       0                0       ⋯\n",
       "3  0          0         0       0                0       ⋯\n",
       "4 38          0        68      24                0       ⋯\n",
       "  TYPE.2.DIABETES.MELLITUS TYPE.1.DIABETES.MELLITUS POISONING HEPATITIS\n",
       "1  0                        0                         0        0       \n",
       "2  0                        0                         0        0       \n",
       "3  0                        0                         0        0       \n",
       "4 65                       21                       120       26       \n",
       "  INCORRECT.DOSE.ADMINISTERED WITHDRAWAL.SYNDROME\n",
       "1  0                           0                 \n",
       "2  0                           0                 \n",
       "3  0                           0                 \n",
       "4 36                          21                 \n",
       "  DRUG.WITHDRAWAL.SYNDROME.NEONATAL POISONING.DELIBERATE SOMNAMBULISM\n",
       "1  0                                 0                    0          \n",
       "2  0                                 0                    0          \n",
       "3  0                                 0                    0          \n",
       "4 20                                30                   26          \n",
       "  DRUG.ABUSE\n",
       "1  0        \n",
       "2  0        \n",
       "3  0        \n",
       "4 36        "
      ]
     },
     "metadata": {},
     "output_type": "display_data"
    }
   ],
   "source": [
    "head(df)"
   ]
  },
  {
   "cell_type": "code",
   "execution_count": 15,
   "metadata": {},
   "outputs": [
    {
     "ename": "ERROR",
     "evalue": "Error in .checkInputs_processRaw(data, stratify, zeroes, list_ids): missing the appropriate column names (need 'id', 'var1', & 'var2')\n",
     "output_type": "error",
     "traceback": [
      "Error in .checkInputs_processRaw(data, stratify, zeroes, list_ids): missing the appropriate column names (need 'id', 'var1', & 'var2')\nTraceback:\n",
      "1. processRaw(data = df, stratify = FALSE)",
      "2. .checkInputs_processRaw(data, stratify, zeroes, list_ids)",
      "3. stop(\"missing the appropriate column names (need 'id', 'var1', & 'var2')\")"
     ]
    }
   ],
   "source": [
    "processRaw(data=df, stratify = FALSE)"
   ]
  },
  {
   "cell_type": "code",
   "execution_count": null,
   "metadata": {},
   "outputs": [],
   "source": []
  }
 ],
 "metadata": {
  "kernelspec": {
   "display_name": "R",
   "language": "R",
   "name": "ir"
  },
  "language_info": {
   "codemirror_mode": "r",
   "file_extension": ".r",
   "mimetype": "text/x-r-source",
   "name": "R",
   "pygments_lexer": "r",
   "version": "4.0.2"
  },
  "toc": {
   "base_numbering": 1,
   "nav_menu": {},
   "number_sections": true,
   "sideBar": true,
   "skip_h1_title": false,
   "title_cell": "Table of Contents",
   "title_sidebar": "Contents",
   "toc_cell": false,
   "toc_position": {},
   "toc_section_display": true,
   "toc_window_display": false
  },
  "varInspector": {
   "cols": {
    "lenName": 16,
    "lenType": 16,
    "lenVar": 40
   },
   "kernels_config": {
    "python": {
     "delete_cmd_postfix": "",
     "delete_cmd_prefix": "del ",
     "library": "var_list.py",
     "varRefreshCmd": "print(var_dic_list())"
    },
    "r": {
     "delete_cmd_postfix": ") ",
     "delete_cmd_prefix": "rm(",
     "library": "var_list.r",
     "varRefreshCmd": "cat(var_dic_list()) "
    }
   },
   "types_to_exclude": [
    "module",
    "function",
    "builtin_function_or_method",
    "instance",
    "_Feature"
   ],
   "window_display": false
  }
 },
 "nbformat": 4,
 "nbformat_minor": 4
}
