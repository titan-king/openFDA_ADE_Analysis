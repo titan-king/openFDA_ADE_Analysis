{
 "cells": [
  {
   "cell_type": "markdown",
   "metadata": {},
   "source": [
    "# Proportionality Assessment using R and the openEBGM package\n",
    "\n",
    "To analyse the reported proportionality ratio, we will structure the data as needed by the openEBGM  [[2]](#2) and determine the PRR. Additionally, we will use the Gamma-Poission Shrinkage model and use Empricial Bayes Geometric Mean (EBGM) to report the ratio. \n",
    "\n",
    "We will follow the example as presented here to achieve this :(https://cran.r-project.org/web/packages/openEBGM/vignettes/x1_introAndDataPrepVignette.html)"
   ]
  },
  {
   "cell_type": "code",
   "execution_count": 62,
   "metadata": {
    "scrolled": true
   },
   "outputs": [
    {
     "name": "stderr",
     "output_type": "stream",
     "text": [
      "Installing package into ‘/home/raj/R/x86_64-pc-linux-gnu-library/4.0’\n",
      "(as ‘lib’ is unspecified)\n",
      "\n"
     ]
    }
   ],
   "source": [
    "install.packages('openEBGM')\n",
    "options(warn=-1)"
   ]
  },
  {
   "cell_type": "code",
   "execution_count": 63,
   "metadata": {},
   "outputs": [],
   "source": [
    "library(openEBGM)"
   ]
  },
  {
   "cell_type": "code",
   "execution_count": 64,
   "metadata": {},
   "outputs": [],
   "source": [
    "df<-read.csv('./data/product_event_strat.csv')"
   ]
  },
  {
   "cell_type": "code",
   "execution_count": 65,
   "metadata": {},
   "outputs": [
    {
     "data": {
      "text/html": [
       "<table>\n",
       "<caption>A data.frame: 6 × 5</caption>\n",
       "<thead>\n",
       "\t<tr><th></th><th scope=col>id</th><th scope=col>sex</th><th scope=col>age</th><th scope=col>var1</th><th scope=col>var2</th></tr>\n",
       "\t<tr><th></th><th scope=col>&lt;int&gt;</th><th scope=col>&lt;chr&gt;</th><th scope=col>&lt;int&gt;</th><th scope=col>&lt;chr&gt;</th><th scope=col>&lt;chr&gt;</th></tr>\n",
       "</thead>\n",
       "<tbody>\n",
       "\t<tr><th scope=row>1</th><td>0</td><td>F</td><td>NA</td><td>afinitor</td><td>Metastases to bone  </td></tr>\n",
       "\t<tr><th scope=row>2</th><td>1</td><td>F</td><td>NA</td><td>afinitor</td><td>Osteonecrosis of jaw</td></tr>\n",
       "\t<tr><th scope=row>3</th><td>2</td><td>F</td><td> 7</td><td>afinitor</td><td>Epilepsy            </td></tr>\n",
       "\t<tr><th scope=row>4</th><td>3</td><td>F</td><td> 7</td><td>afinitor</td><td>Mood altered        </td></tr>\n",
       "\t<tr><th scope=row>5</th><td>4</td><td>F</td><td> 7</td><td>afinitor</td><td>Stomatitis          </td></tr>\n",
       "\t<tr><th scope=row>6</th><td>5</td><td>F</td><td>NA</td><td>afinitor</td><td>Angioedema          </td></tr>\n",
       "</tbody>\n",
       "</table>\n"
      ],
      "text/latex": [
       "A data.frame: 6 × 5\n",
       "\\begin{tabular}{r|lllll}\n",
       "  & id & sex & age & var1 & var2\\\\\n",
       "  & <int> & <chr> & <int> & <chr> & <chr>\\\\\n",
       "\\hline\n",
       "\t1 & 0 & F & NA & afinitor & Metastases to bone  \\\\\n",
       "\t2 & 1 & F & NA & afinitor & Osteonecrosis of jaw\\\\\n",
       "\t3 & 2 & F &  7 & afinitor & Epilepsy            \\\\\n",
       "\t4 & 3 & F &  7 & afinitor & Mood altered        \\\\\n",
       "\t5 & 4 & F &  7 & afinitor & Stomatitis          \\\\\n",
       "\t6 & 5 & F & NA & afinitor & Angioedema          \\\\\n",
       "\\end{tabular}\n"
      ],
      "text/markdown": [
       "\n",
       "A data.frame: 6 × 5\n",
       "\n",
       "| <!--/--> | id &lt;int&gt; | sex &lt;chr&gt; | age &lt;int&gt; | var1 &lt;chr&gt; | var2 &lt;chr&gt; |\n",
       "|---|---|---|---|---|---|\n",
       "| 1 | 0 | F | NA | afinitor | Metastases to bone   |\n",
       "| 2 | 1 | F | NA | afinitor | Osteonecrosis of jaw |\n",
       "| 3 | 2 | F |  7 | afinitor | Epilepsy             |\n",
       "| 4 | 3 | F |  7 | afinitor | Mood altered         |\n",
       "| 5 | 4 | F |  7 | afinitor | Stomatitis           |\n",
       "| 6 | 5 | F | NA | afinitor | Angioedema           |\n",
       "\n"
      ],
      "text/plain": [
       "  id sex age var1     var2                \n",
       "1 0  F   NA  afinitor Metastases to bone  \n",
       "2 1  F   NA  afinitor Osteonecrosis of jaw\n",
       "3 2  F    7  afinitor Epilepsy            \n",
       "4 3  F    7  afinitor Mood altered        \n",
       "5 4  F    7  afinitor Stomatitis          \n",
       "6 5  F   NA  afinitor Angioedema          "
      ]
     },
     "metadata": {},
     "output_type": "display_data"
    }
   ],
   "source": [
    "head(df)"
   ]
  },
  {
   "cell_type": "code",
   "execution_count": 66,
   "metadata": {},
   "outputs": [
    {
     "data": {
      "text/plain": [
       "\n",
       "            F      M   <NA> \n",
       " 17512 119756  88190    596 "
      ]
     },
     "metadata": {},
     "output_type": "display_data"
    }
   ],
   "source": [
    "df[df=='0']<- NA #sex == 0 is unknown, replace with na\n",
    "df$strat_gender<- df$sex\n",
    "table(df$strat_gender, useNA=\"always\")"
   ]
  },
  {
   "cell_type": "code",
   "execution_count": 67,
   "metadata": {},
   "outputs": [
    {
     "data": {
      "text/plain": [
       "\n",
       " 18_plus under_18  unknown     <NA> \n",
       "  152489     7404    66161        0 "
      ]
     },
     "metadata": {},
     "output_type": "display_data"
    }
   ],
   "source": [
    "df$strat_age <- ifelse(is.na(df$age), \"unknown\",\n",
    "                 ifelse(df$age < 18, \"under_18\",\n",
    "                        \"18_plus\"))\n",
    "table(df$strat_age, useNA = \"always\")"
   ]
  },
  {
   "cell_type": "code",
   "execution_count": 68,
   "metadata": {},
   "outputs": [
    {
     "data": {
      "text/html": [
       "<table>\n",
       "<caption>A data.frame: 6 × 5</caption>\n",
       "<thead>\n",
       "\t<tr><th></th><th scope=col>id</th><th scope=col>var1</th><th scope=col>var2</th><th scope=col>strat_gender</th><th scope=col>strat_age</th></tr>\n",
       "\t<tr><th></th><th scope=col>&lt;int&gt;</th><th scope=col>&lt;chr&gt;</th><th scope=col>&lt;chr&gt;</th><th scope=col>&lt;chr&gt;</th><th scope=col>&lt;chr&gt;</th></tr>\n",
       "</thead>\n",
       "<tbody>\n",
       "\t<tr><th scope=row>3</th><td> 2</td><td>afinitor</td><td>Epilepsy        </td><td>F</td><td>under_18</td></tr>\n",
       "\t<tr><th scope=row>4</th><td> 3</td><td>afinitor</td><td>Mood altered    </td><td>F</td><td>under_18</td></tr>\n",
       "\t<tr><th scope=row>5</th><td> 4</td><td>afinitor</td><td>Stomatitis      </td><td>F</td><td>under_18</td></tr>\n",
       "\t<tr><th scope=row>13</th><td>12</td><td>afinitor</td><td>Eating disorder </td><td>F</td><td>18_plus </td></tr>\n",
       "\t<tr><th scope=row>14</th><td>13</td><td>afinitor</td><td>Dysgeusia       </td><td>F</td><td>18_plus </td></tr>\n",
       "\t<tr><th scope=row>15</th><td>14</td><td>afinitor</td><td>Weight decreased</td><td>F</td><td>18_plus </td></tr>\n",
       "</tbody>\n",
       "</table>\n"
      ],
      "text/latex": [
       "A data.frame: 6 × 5\n",
       "\\begin{tabular}{r|lllll}\n",
       "  & id & var1 & var2 & strat\\_gender & strat\\_age\\\\\n",
       "  & <int> & <chr> & <chr> & <chr> & <chr>\\\\\n",
       "\\hline\n",
       "\t3 &  2 & afinitor & Epilepsy         & F & under\\_18\\\\\n",
       "\t4 &  3 & afinitor & Mood altered     & F & under\\_18\\\\\n",
       "\t5 &  4 & afinitor & Stomatitis       & F & under\\_18\\\\\n",
       "\t13 & 12 & afinitor & Eating disorder  & F & 18\\_plus \\\\\n",
       "\t14 & 13 & afinitor & Dysgeusia        & F & 18\\_plus \\\\\n",
       "\t15 & 14 & afinitor & Weight decreased & F & 18\\_plus \\\\\n",
       "\\end{tabular}\n"
      ],
      "text/markdown": [
       "\n",
       "A data.frame: 6 × 5\n",
       "\n",
       "| <!--/--> | id &lt;int&gt; | var1 &lt;chr&gt; | var2 &lt;chr&gt; | strat_gender &lt;chr&gt; | strat_age &lt;chr&gt; |\n",
       "|---|---|---|---|---|---|\n",
       "| 3 |  2 | afinitor | Epilepsy         | F | under_18 |\n",
       "| 4 |  3 | afinitor | Mood altered     | F | under_18 |\n",
       "| 5 |  4 | afinitor | Stomatitis       | F | under_18 |\n",
       "| 13 | 12 | afinitor | Eating disorder  | F | 18_plus  |\n",
       "| 14 | 13 | afinitor | Dysgeusia        | F | 18_plus  |\n",
       "| 15 | 14 | afinitor | Weight decreased | F | 18_plus  |\n",
       "\n"
      ],
      "text/plain": [
       "   id var1     var2             strat_gender strat_age\n",
       "3   2 afinitor Epilepsy         F            under_18 \n",
       "4   3 afinitor Mood altered     F            under_18 \n",
       "5   4 afinitor Stomatitis       F            under_18 \n",
       "13 12 afinitor Eating disorder  F            18_plus  \n",
       "14 13 afinitor Dysgeusia        F            18_plus  \n",
       "15 14 afinitor Weight decreased F            18_plus  "
      ]
     },
     "metadata": {},
     "output_type": "display_data"
    }
   ],
   "source": [
    "vars<-c(\"id\", \"var1\",\"var2\", \"strat_gender\", \"strat_age\") #select the columns\n",
    "#remove any na\n",
    "df=na.omit(df)\n",
    "df=df[vars]\n",
    "head(df)"
   ]
  },
  {
   "cell_type": "markdown",
   "metadata": {},
   "source": [
    "We have processed the data into the right format for using the openEBGM package. We can calculate the RR and PRR for the product-event pairs.\n",
    "\n",
    "- $N$ indicates the actual count for the cell. \n",
    "- $E$ is the expected count under the assumption of independence between rows and columns.  \n",
    "\n",
    "When RR is 1,we observe the exact count you would expect to observe if no association exists between the two variables. When RR>1, we observe a larger count than expected. "
   ]
  },
  {
   "cell_type": "code",
   "execution_count": 69,
   "metadata": {
    "scrolled": false
   },
   "outputs": [
    {
     "data": {
      "text/html": [
       "<table>\n",
       "<caption>A data.frame: 15127 × 6</caption>\n",
       "<thead>\n",
       "\t<tr><th scope=col>var1</th><th scope=col>var2</th><th scope=col>N</th><th scope=col>E</th><th scope=col>RR</th><th scope=col>PRR</th></tr>\n",
       "\t<tr><th scope=col>&lt;fct&gt;</th><th scope=col>&lt;fct&gt;</th><th scope=col>&lt;int&gt;</th><th scope=col>&lt;dbl&gt;</th><th scope=col>&lt;dbl&gt;</th><th scope=col>&lt;dbl&gt;</th></tr>\n",
       "</thead>\n",
       "<tbody>\n",
       "\t<tr><td>afinitor</td><td>5-hydroxyindolacetic acid increased</td><td>  1</td><td>  0.1583715</td><td>6.31</td><td> Inf</td></tr>\n",
       "\t<tr><td>afinitor</td><td>Abasia                             </td><td> 10</td><td>  4.1176596</td><td>2.43</td><td>3.32</td></tr>\n",
       "\t<tr><td>afinitor</td><td>Abdominal abscess                  </td><td>  1</td><td>  4.2760311</td><td>0.23</td><td>0.20</td></tr>\n",
       "\t<tr><td>afinitor</td><td>Abdominal adhesions                </td><td>  3</td><td>  2.0588298</td><td>1.46</td><td>1.59</td></tr>\n",
       "\t<tr><td>afinitor</td><td>Abdominal compartment syndrome     </td><td>  1</td><td>  1.5837152</td><td>0.63</td><td>0.59</td></tr>\n",
       "\t<tr><td>afinitor</td><td>Abdominal discomfort               </td><td> 36</td><td> 16.9457529</td><td>2.12</td><td>2.69</td></tr>\n",
       "\t<tr><td>afinitor</td><td>ABDOMINAL DISCOMFORT               </td><td>  1</td><td>  2.8506874</td><td>0.35</td><td>0.31</td></tr>\n",
       "\t<tr><td>afinitor</td><td>Abdominal distension               </td><td> 47</td><td> 22.0136416</td><td>2.14</td><td>2.71</td></tr>\n",
       "\t<tr><td>afinitor</td><td>Abdominal hernia                   </td><td>  5</td><td>  3.9592881</td><td>1.26</td><td>1.33</td></tr>\n",
       "\t<tr><td>afinitor</td><td>Abdominal injury                   </td><td>  1</td><td>  0.4751146</td><td>2.10</td><td>2.66</td></tr>\n",
       "\t<tr><td>afinitor</td><td>Abdominal lymphadenopathy          </td><td>  2</td><td>  0.7918576</td><td>2.53</td><td>3.54</td></tr>\n",
       "\t<tr><td>afinitor</td><td>Abdominal mass                     </td><td>  3</td><td>  1.2669722</td><td>2.37</td><td>3.19</td></tr>\n",
       "\t<tr><td>afinitor</td><td>Abdominal neoplasm                 </td><td>  1</td><td>  0.1583715</td><td>6.31</td><td> Inf</td></tr>\n",
       "\t<tr><td>afinitor</td><td>Abdominal pain                     </td><td>141</td><td>111.6519232</td><td>1.26</td><td>1.33</td></tr>\n",
       "\t<tr><td>afinitor</td><td>ABDOMINAL PAIN                     </td><td>  9</td><td> 25.3394436</td><td>0.36</td><td>0.32</td></tr>\n",
       "\t<tr><td>afinitor</td><td>Abdominal pain lower               </td><td> 10</td><td>  7.4434615</td><td>1.34</td><td>1.44</td></tr>\n",
       "\t<tr><td>afinitor</td><td>Abdominal pain upper               </td><td> 73</td><td> 46.2444845</td><td>1.58</td><td>1.77</td></tr>\n",
       "\t<tr><td>afinitor</td><td>ABDOMINAL PAIN UPPER               </td><td>  5</td><td>  8.2353192</td><td>0.61</td><td>0.57</td></tr>\n",
       "\t<tr><td>afinitor</td><td>Abdominal rigidity                 </td><td>  2</td><td>  0.7918576</td><td>2.53</td><td>3.54</td></tr>\n",
       "\t<tr><td>afinitor</td><td>Abdominal tenderness               </td><td>  3</td><td>  2.2172013</td><td>1.35</td><td>1.45</td></tr>\n",
       "\t<tr><td>afinitor</td><td>Abdominal wall disorder            </td><td>  1</td><td>  0.4751146</td><td>2.10</td><td>2.66</td></tr>\n",
       "\t<tr><td>afinitor</td><td>Abdominal wound dehiscence         </td><td>  1</td><td>  0.9502291</td><td>1.05</td><td>1.06</td></tr>\n",
       "\t<tr><td>afinitor</td><td>Abnormal behaviour                 </td><td> 21</td><td> 20.5882979</td><td>1.02</td><td>1.02</td></tr>\n",
       "\t<tr><td>afinitor</td><td>Abnormal dreams                    </td><td>  1</td><td>  3.6425450</td><td>0.27</td><td>0.24</td></tr>\n",
       "\t<tr><td>afinitor</td><td>Abnormal faeces                    </td><td>  3</td><td>  1.2669722</td><td>2.37</td><td>3.19</td></tr>\n",
       "\t<tr><td>afinitor</td><td>Abnormal loss of weight            </td><td>  2</td><td>  0.9502291</td><td>2.10</td><td>2.66</td></tr>\n",
       "\t<tr><td>afinitor</td><td>Abortion spontaneous               </td><td>  1</td><td>  4.4344026</td><td>0.23</td><td>0.20</td></tr>\n",
       "\t<tr><td>afinitor</td><td>Abscess                            </td><td> 10</td><td>  6.6516039</td><td>1.50</td><td>1.66</td></tr>\n",
       "\t<tr><td>afinitor</td><td>ABSCESS JAW                        </td><td>  1</td><td>  0.1583715</td><td>6.31</td><td> Inf</td></tr>\n",
       "\t<tr><td>afinitor</td><td>Abscess limb                       </td><td>  3</td><td>  1.2669722</td><td>2.37</td><td>3.19</td></tr>\n",
       "\t<tr><td>⋮</td><td>⋮</td><td>⋮</td><td>⋮</td><td>⋮</td><td>⋮</td></tr>\n",
       "\t<tr><td>QUETIAPINE</td><td>WOLFF-PARKINSON-WHITE SYNDROME          </td><td> 1</td><td> 0.4652856</td><td>2.15</td><td> Inf</td></tr>\n",
       "\t<tr><td>QUETIAPINE</td><td>Wound                                   </td><td>17</td><td>20.4725665</td><td>0.83</td><td>0.72</td></tr>\n",
       "\t<tr><td>QUETIAPINE</td><td>WOUND                                   </td><td> 1</td><td> 0.4652856</td><td>2.15</td><td> Inf</td></tr>\n",
       "\t<tr><td>QUETIAPINE</td><td>Wound dehiscence                        </td><td> 2</td><td>23.2642802</td><td>0.09</td><td>0.05</td></tr>\n",
       "\t<tr><td>QUETIAPINE</td><td>WOUND DEHISCENCE                        </td><td> 2</td><td>11.6321401</td><td>0.17</td><td>0.10</td></tr>\n",
       "\t<tr><td>QUETIAPINE</td><td>Wound haemorrhage                       </td><td> 2</td><td> 4.6528560</td><td>0.43</td><td>0.29</td></tr>\n",
       "\t<tr><td>QUETIAPINE</td><td>WOUND HAEMORRHAGE                       </td><td> 2</td><td> 1.3958568</td><td>1.43</td><td>2.30</td></tr>\n",
       "\t<tr><td>QUETIAPINE</td><td>Wound healing normal                    </td><td> 3</td><td> 1.3958568</td><td>2.15</td><td> Inf</td></tr>\n",
       "\t<tr><td>QUETIAPINE</td><td>Wound infection                         </td><td> 5</td><td>25.5907082</td><td>0.20</td><td>0.11</td></tr>\n",
       "\t<tr><td>QUETIAPINE</td><td>WOUND INFECTION                         </td><td> 2</td><td> 5.5834272</td><td>0.36</td><td>0.23</td></tr>\n",
       "\t<tr><td>QUETIAPINE</td><td>Wound infection staphylococcal          </td><td> 4</td><td> 1.8611424</td><td>2.15</td><td> Inf</td></tr>\n",
       "\t<tr><td>QUETIAPINE</td><td>WOUND INFECTION STAPHYLOCOCCAL          </td><td> 2</td><td> 1.3958568</td><td>1.43</td><td>2.30</td></tr>\n",
       "\t<tr><td>QUETIAPINE</td><td>Wound secretion                         </td><td> 1</td><td> 2.3264280</td><td>0.43</td><td>0.29</td></tr>\n",
       "\t<tr><td>QUETIAPINE</td><td>WOUND SECRETION                         </td><td> 1</td><td> 3.2569992</td><td>0.31</td><td>0.19</td></tr>\n",
       "\t<tr><td>QUETIAPINE</td><td>Wrist fracture                          </td><td> 4</td><td> 2.7917136</td><td>1.43</td><td>2.30</td></tr>\n",
       "\t<tr><td>QUETIAPINE</td><td>WRIST FRACTURE                          </td><td> 5</td><td> 3.7222848</td><td>1.34</td><td>1.92</td></tr>\n",
       "\t<tr><td>QUETIAPINE</td><td>Wrist surgery                           </td><td> 1</td><td> 0.4652856</td><td>2.15</td><td> Inf</td></tr>\n",
       "\t<tr><td>QUETIAPINE</td><td>Wrong drug                              </td><td> 1</td><td> 0.4652856</td><td>2.15</td><td> Inf</td></tr>\n",
       "\t<tr><td>QUETIAPINE</td><td>Wrong drug administered                 </td><td> 9</td><td> 4.1875704</td><td>2.15</td><td> Inf</td></tr>\n",
       "\t<tr><td>QUETIAPINE</td><td>WRONG DRUG ADMINISTERED                 </td><td> 3</td><td> 1.3958568</td><td>2.15</td><td> Inf</td></tr>\n",
       "\t<tr><td>QUETIAPINE</td><td>Wrong patient received medication       </td><td> 5</td><td> 2.3264280</td><td>2.15</td><td> Inf</td></tr>\n",
       "\t<tr><td>QUETIAPINE</td><td>Wrong product administered              </td><td> 4</td><td> 1.8611424</td><td>2.15</td><td> Inf</td></tr>\n",
       "\t<tr><td>QUETIAPINE</td><td>Wrong strength                          </td><td> 2</td><td> 0.9305712</td><td>2.15</td><td> Inf</td></tr>\n",
       "\t<tr><td>QUETIAPINE</td><td>Wrong technique in drug usage process   </td><td> 4</td><td> 2.3264280</td><td>1.72</td><td>4.60</td></tr>\n",
       "\t<tr><td>QUETIAPINE</td><td>WRONG TECHNIQUE IN DRUG USAGE PROCESS   </td><td> 6</td><td> 2.7917136</td><td>2.15</td><td> Inf</td></tr>\n",
       "\t<tr><td>QUETIAPINE</td><td>Wrong technique in product usage process</td><td>24</td><td>22.3337090</td><td>1.07</td><td>1.15</td></tr>\n",
       "\t<tr><td>QUETIAPINE</td><td>Xanthoma                                </td><td> 4</td><td> 1.8611424</td><td>2.15</td><td> Inf</td></tr>\n",
       "\t<tr><td>QUETIAPINE</td><td>Yawning                                 </td><td> 8</td><td> 3.7222848</td><td>2.15</td><td> Inf</td></tr>\n",
       "\t<tr><td>QUETIAPINE</td><td>Yellow skin                             </td><td> 2</td><td> 3.7222848</td><td>0.54</td><td>0.38</td></tr>\n",
       "\t<tr><td>QUETIAPINE</td><td>YELLOW SKIN                             </td><td> 1</td><td> 0.9305712</td><td>1.07</td><td>1.15</td></tr>\n",
       "</tbody>\n",
       "</table>\n"
      ],
      "text/latex": [
       "A data.frame: 15127 × 6\n",
       "\\begin{tabular}{llllll}\n",
       " var1 & var2 & N & E & RR & PRR\\\\\n",
       " <fct> & <fct> & <int> & <dbl> & <dbl> & <dbl>\\\\\n",
       "\\hline\n",
       "\t afinitor & 5-hydroxyindolacetic acid increased &   1 &   0.1583715 & 6.31 &  Inf\\\\\n",
       "\t afinitor & Abasia                              &  10 &   4.1176596 & 2.43 & 3.32\\\\\n",
       "\t afinitor & Abdominal abscess                   &   1 &   4.2760311 & 0.23 & 0.20\\\\\n",
       "\t afinitor & Abdominal adhesions                 &   3 &   2.0588298 & 1.46 & 1.59\\\\\n",
       "\t afinitor & Abdominal compartment syndrome      &   1 &   1.5837152 & 0.63 & 0.59\\\\\n",
       "\t afinitor & Abdominal discomfort                &  36 &  16.9457529 & 2.12 & 2.69\\\\\n",
       "\t afinitor & ABDOMINAL DISCOMFORT                &   1 &   2.8506874 & 0.35 & 0.31\\\\\n",
       "\t afinitor & Abdominal distension                &  47 &  22.0136416 & 2.14 & 2.71\\\\\n",
       "\t afinitor & Abdominal hernia                    &   5 &   3.9592881 & 1.26 & 1.33\\\\\n",
       "\t afinitor & Abdominal injury                    &   1 &   0.4751146 & 2.10 & 2.66\\\\\n",
       "\t afinitor & Abdominal lymphadenopathy           &   2 &   0.7918576 & 2.53 & 3.54\\\\\n",
       "\t afinitor & Abdominal mass                      &   3 &   1.2669722 & 2.37 & 3.19\\\\\n",
       "\t afinitor & Abdominal neoplasm                  &   1 &   0.1583715 & 6.31 &  Inf\\\\\n",
       "\t afinitor & Abdominal pain                      & 141 & 111.6519232 & 1.26 & 1.33\\\\\n",
       "\t afinitor & ABDOMINAL PAIN                      &   9 &  25.3394436 & 0.36 & 0.32\\\\\n",
       "\t afinitor & Abdominal pain lower                &  10 &   7.4434615 & 1.34 & 1.44\\\\\n",
       "\t afinitor & Abdominal pain upper                &  73 &  46.2444845 & 1.58 & 1.77\\\\\n",
       "\t afinitor & ABDOMINAL PAIN UPPER                &   5 &   8.2353192 & 0.61 & 0.57\\\\\n",
       "\t afinitor & Abdominal rigidity                  &   2 &   0.7918576 & 2.53 & 3.54\\\\\n",
       "\t afinitor & Abdominal tenderness                &   3 &   2.2172013 & 1.35 & 1.45\\\\\n",
       "\t afinitor & Abdominal wall disorder             &   1 &   0.4751146 & 2.10 & 2.66\\\\\n",
       "\t afinitor & Abdominal wound dehiscence          &   1 &   0.9502291 & 1.05 & 1.06\\\\\n",
       "\t afinitor & Abnormal behaviour                  &  21 &  20.5882979 & 1.02 & 1.02\\\\\n",
       "\t afinitor & Abnormal dreams                     &   1 &   3.6425450 & 0.27 & 0.24\\\\\n",
       "\t afinitor & Abnormal faeces                     &   3 &   1.2669722 & 2.37 & 3.19\\\\\n",
       "\t afinitor & Abnormal loss of weight             &   2 &   0.9502291 & 2.10 & 2.66\\\\\n",
       "\t afinitor & Abortion spontaneous                &   1 &   4.4344026 & 0.23 & 0.20\\\\\n",
       "\t afinitor & Abscess                             &  10 &   6.6516039 & 1.50 & 1.66\\\\\n",
       "\t afinitor & ABSCESS JAW                         &   1 &   0.1583715 & 6.31 &  Inf\\\\\n",
       "\t afinitor & Abscess limb                        &   3 &   1.2669722 & 2.37 & 3.19\\\\\n",
       "\t ⋮ & ⋮ & ⋮ & ⋮ & ⋮ & ⋮\\\\\n",
       "\t QUETIAPINE & WOLFF-PARKINSON-WHITE SYNDROME           &  1 &  0.4652856 & 2.15 &  Inf\\\\\n",
       "\t QUETIAPINE & Wound                                    & 17 & 20.4725665 & 0.83 & 0.72\\\\\n",
       "\t QUETIAPINE & WOUND                                    &  1 &  0.4652856 & 2.15 &  Inf\\\\\n",
       "\t QUETIAPINE & Wound dehiscence                         &  2 & 23.2642802 & 0.09 & 0.05\\\\\n",
       "\t QUETIAPINE & WOUND DEHISCENCE                         &  2 & 11.6321401 & 0.17 & 0.10\\\\\n",
       "\t QUETIAPINE & Wound haemorrhage                        &  2 &  4.6528560 & 0.43 & 0.29\\\\\n",
       "\t QUETIAPINE & WOUND HAEMORRHAGE                        &  2 &  1.3958568 & 1.43 & 2.30\\\\\n",
       "\t QUETIAPINE & Wound healing normal                     &  3 &  1.3958568 & 2.15 &  Inf\\\\\n",
       "\t QUETIAPINE & Wound infection                          &  5 & 25.5907082 & 0.20 & 0.11\\\\\n",
       "\t QUETIAPINE & WOUND INFECTION                          &  2 &  5.5834272 & 0.36 & 0.23\\\\\n",
       "\t QUETIAPINE & Wound infection staphylococcal           &  4 &  1.8611424 & 2.15 &  Inf\\\\\n",
       "\t QUETIAPINE & WOUND INFECTION STAPHYLOCOCCAL           &  2 &  1.3958568 & 1.43 & 2.30\\\\\n",
       "\t QUETIAPINE & Wound secretion                          &  1 &  2.3264280 & 0.43 & 0.29\\\\\n",
       "\t QUETIAPINE & WOUND SECRETION                          &  1 &  3.2569992 & 0.31 & 0.19\\\\\n",
       "\t QUETIAPINE & Wrist fracture                           &  4 &  2.7917136 & 1.43 & 2.30\\\\\n",
       "\t QUETIAPINE & WRIST FRACTURE                           &  5 &  3.7222848 & 1.34 & 1.92\\\\\n",
       "\t QUETIAPINE & Wrist surgery                            &  1 &  0.4652856 & 2.15 &  Inf\\\\\n",
       "\t QUETIAPINE & Wrong drug                               &  1 &  0.4652856 & 2.15 &  Inf\\\\\n",
       "\t QUETIAPINE & Wrong drug administered                  &  9 &  4.1875704 & 2.15 &  Inf\\\\\n",
       "\t QUETIAPINE & WRONG DRUG ADMINISTERED                  &  3 &  1.3958568 & 2.15 &  Inf\\\\\n",
       "\t QUETIAPINE & Wrong patient received medication        &  5 &  2.3264280 & 2.15 &  Inf\\\\\n",
       "\t QUETIAPINE & Wrong product administered               &  4 &  1.8611424 & 2.15 &  Inf\\\\\n",
       "\t QUETIAPINE & Wrong strength                           &  2 &  0.9305712 & 2.15 &  Inf\\\\\n",
       "\t QUETIAPINE & Wrong technique in drug usage process    &  4 &  2.3264280 & 1.72 & 4.60\\\\\n",
       "\t QUETIAPINE & WRONG TECHNIQUE IN DRUG USAGE PROCESS    &  6 &  2.7917136 & 2.15 &  Inf\\\\\n",
       "\t QUETIAPINE & Wrong technique in product usage process & 24 & 22.3337090 & 1.07 & 1.15\\\\\n",
       "\t QUETIAPINE & Xanthoma                                 &  4 &  1.8611424 & 2.15 &  Inf\\\\\n",
       "\t QUETIAPINE & Yawning                                  &  8 &  3.7222848 & 2.15 &  Inf\\\\\n",
       "\t QUETIAPINE & Yellow skin                              &  2 &  3.7222848 & 0.54 & 0.38\\\\\n",
       "\t QUETIAPINE & YELLOW SKIN                              &  1 &  0.9305712 & 1.07 & 1.15\\\\\n",
       "\\end{tabular}\n"
      ],
      "text/markdown": [
       "\n",
       "A data.frame: 15127 × 6\n",
       "\n",
       "| var1 &lt;fct&gt; | var2 &lt;fct&gt; | N &lt;int&gt; | E &lt;dbl&gt; | RR &lt;dbl&gt; | PRR &lt;dbl&gt; |\n",
       "|---|---|---|---|---|---|\n",
       "| afinitor | 5-hydroxyindolacetic acid increased |   1 |   0.1583715 | 6.31 |  Inf |\n",
       "| afinitor | Abasia                              |  10 |   4.1176596 | 2.43 | 3.32 |\n",
       "| afinitor | Abdominal abscess                   |   1 |   4.2760311 | 0.23 | 0.20 |\n",
       "| afinitor | Abdominal adhesions                 |   3 |   2.0588298 | 1.46 | 1.59 |\n",
       "| afinitor | Abdominal compartment syndrome      |   1 |   1.5837152 | 0.63 | 0.59 |\n",
       "| afinitor | Abdominal discomfort                |  36 |  16.9457529 | 2.12 | 2.69 |\n",
       "| afinitor | ABDOMINAL DISCOMFORT                |   1 |   2.8506874 | 0.35 | 0.31 |\n",
       "| afinitor | Abdominal distension                |  47 |  22.0136416 | 2.14 | 2.71 |\n",
       "| afinitor | Abdominal hernia                    |   5 |   3.9592881 | 1.26 | 1.33 |\n",
       "| afinitor | Abdominal injury                    |   1 |   0.4751146 | 2.10 | 2.66 |\n",
       "| afinitor | Abdominal lymphadenopathy           |   2 |   0.7918576 | 2.53 | 3.54 |\n",
       "| afinitor | Abdominal mass                      |   3 |   1.2669722 | 2.37 | 3.19 |\n",
       "| afinitor | Abdominal neoplasm                  |   1 |   0.1583715 | 6.31 |  Inf |\n",
       "| afinitor | Abdominal pain                      | 141 | 111.6519232 | 1.26 | 1.33 |\n",
       "| afinitor | ABDOMINAL PAIN                      |   9 |  25.3394436 | 0.36 | 0.32 |\n",
       "| afinitor | Abdominal pain lower                |  10 |   7.4434615 | 1.34 | 1.44 |\n",
       "| afinitor | Abdominal pain upper                |  73 |  46.2444845 | 1.58 | 1.77 |\n",
       "| afinitor | ABDOMINAL PAIN UPPER                |   5 |   8.2353192 | 0.61 | 0.57 |\n",
       "| afinitor | Abdominal rigidity                  |   2 |   0.7918576 | 2.53 | 3.54 |\n",
       "| afinitor | Abdominal tenderness                |   3 |   2.2172013 | 1.35 | 1.45 |\n",
       "| afinitor | Abdominal wall disorder             |   1 |   0.4751146 | 2.10 | 2.66 |\n",
       "| afinitor | Abdominal wound dehiscence          |   1 |   0.9502291 | 1.05 | 1.06 |\n",
       "| afinitor | Abnormal behaviour                  |  21 |  20.5882979 | 1.02 | 1.02 |\n",
       "| afinitor | Abnormal dreams                     |   1 |   3.6425450 | 0.27 | 0.24 |\n",
       "| afinitor | Abnormal faeces                     |   3 |   1.2669722 | 2.37 | 3.19 |\n",
       "| afinitor | Abnormal loss of weight             |   2 |   0.9502291 | 2.10 | 2.66 |\n",
       "| afinitor | Abortion spontaneous                |   1 |   4.4344026 | 0.23 | 0.20 |\n",
       "| afinitor | Abscess                             |  10 |   6.6516039 | 1.50 | 1.66 |\n",
       "| afinitor | ABSCESS JAW                         |   1 |   0.1583715 | 6.31 |  Inf |\n",
       "| afinitor | Abscess limb                        |   3 |   1.2669722 | 2.37 | 3.19 |\n",
       "| ⋮ | ⋮ | ⋮ | ⋮ | ⋮ | ⋮ |\n",
       "| QUETIAPINE | WOLFF-PARKINSON-WHITE SYNDROME           |  1 |  0.4652856 | 2.15 |  Inf |\n",
       "| QUETIAPINE | Wound                                    | 17 | 20.4725665 | 0.83 | 0.72 |\n",
       "| QUETIAPINE | WOUND                                    |  1 |  0.4652856 | 2.15 |  Inf |\n",
       "| QUETIAPINE | Wound dehiscence                         |  2 | 23.2642802 | 0.09 | 0.05 |\n",
       "| QUETIAPINE | WOUND DEHISCENCE                         |  2 | 11.6321401 | 0.17 | 0.10 |\n",
       "| QUETIAPINE | Wound haemorrhage                        |  2 |  4.6528560 | 0.43 | 0.29 |\n",
       "| QUETIAPINE | WOUND HAEMORRHAGE                        |  2 |  1.3958568 | 1.43 | 2.30 |\n",
       "| QUETIAPINE | Wound healing normal                     |  3 |  1.3958568 | 2.15 |  Inf |\n",
       "| QUETIAPINE | Wound infection                          |  5 | 25.5907082 | 0.20 | 0.11 |\n",
       "| QUETIAPINE | WOUND INFECTION                          |  2 |  5.5834272 | 0.36 | 0.23 |\n",
       "| QUETIAPINE | Wound infection staphylococcal           |  4 |  1.8611424 | 2.15 |  Inf |\n",
       "| QUETIAPINE | WOUND INFECTION STAPHYLOCOCCAL           |  2 |  1.3958568 | 1.43 | 2.30 |\n",
       "| QUETIAPINE | Wound secretion                          |  1 |  2.3264280 | 0.43 | 0.29 |\n",
       "| QUETIAPINE | WOUND SECRETION                          |  1 |  3.2569992 | 0.31 | 0.19 |\n",
       "| QUETIAPINE | Wrist fracture                           |  4 |  2.7917136 | 1.43 | 2.30 |\n",
       "| QUETIAPINE | WRIST FRACTURE                           |  5 |  3.7222848 | 1.34 | 1.92 |\n",
       "| QUETIAPINE | Wrist surgery                            |  1 |  0.4652856 | 2.15 |  Inf |\n",
       "| QUETIAPINE | Wrong drug                               |  1 |  0.4652856 | 2.15 |  Inf |\n",
       "| QUETIAPINE | Wrong drug administered                  |  9 |  4.1875704 | 2.15 |  Inf |\n",
       "| QUETIAPINE | WRONG DRUG ADMINISTERED                  |  3 |  1.3958568 | 2.15 |  Inf |\n",
       "| QUETIAPINE | Wrong patient received medication        |  5 |  2.3264280 | 2.15 |  Inf |\n",
       "| QUETIAPINE | Wrong product administered               |  4 |  1.8611424 | 2.15 |  Inf |\n",
       "| QUETIAPINE | Wrong strength                           |  2 |  0.9305712 | 2.15 |  Inf |\n",
       "| QUETIAPINE | Wrong technique in drug usage process    |  4 |  2.3264280 | 1.72 | 4.60 |\n",
       "| QUETIAPINE | WRONG TECHNIQUE IN DRUG USAGE PROCESS    |  6 |  2.7917136 | 2.15 |  Inf |\n",
       "| QUETIAPINE | Wrong technique in product usage process | 24 | 22.3337090 | 1.07 | 1.15 |\n",
       "| QUETIAPINE | Xanthoma                                 |  4 |  1.8611424 | 2.15 |  Inf |\n",
       "| QUETIAPINE | Yawning                                  |  8 |  3.7222848 | 2.15 |  Inf |\n",
       "| QUETIAPINE | Yellow skin                              |  2 |  3.7222848 | 0.54 | 0.38 |\n",
       "| QUETIAPINE | YELLOW SKIN                              |  1 |  0.9305712 | 1.07 | 1.15 |\n",
       "\n"
      ],
      "text/plain": [
       "      var1       var2                                     N   E           RR  \n",
       "1     afinitor   5-hydroxyindolacetic acid increased        1   0.1583715 6.31\n",
       "2     afinitor   Abasia                                    10   4.1176596 2.43\n",
       "3     afinitor   Abdominal abscess                          1   4.2760311 0.23\n",
       "4     afinitor   Abdominal adhesions                        3   2.0588298 1.46\n",
       "5     afinitor   Abdominal compartment syndrome             1   1.5837152 0.63\n",
       "6     afinitor   Abdominal discomfort                      36  16.9457529 2.12\n",
       "7     afinitor   ABDOMINAL DISCOMFORT                       1   2.8506874 0.35\n",
       "8     afinitor   Abdominal distension                      47  22.0136416 2.14\n",
       "9     afinitor   Abdominal hernia                           5   3.9592881 1.26\n",
       "10    afinitor   Abdominal injury                           1   0.4751146 2.10\n",
       "11    afinitor   Abdominal lymphadenopathy                  2   0.7918576 2.53\n",
       "12    afinitor   Abdominal mass                             3   1.2669722 2.37\n",
       "13    afinitor   Abdominal neoplasm                         1   0.1583715 6.31\n",
       "14    afinitor   Abdominal pain                           141 111.6519232 1.26\n",
       "15    afinitor   ABDOMINAL PAIN                             9  25.3394436 0.36\n",
       "16    afinitor   Abdominal pain lower                      10   7.4434615 1.34\n",
       "17    afinitor   Abdominal pain upper                      73  46.2444845 1.58\n",
       "18    afinitor   ABDOMINAL PAIN UPPER                       5   8.2353192 0.61\n",
       "19    afinitor   Abdominal rigidity                         2   0.7918576 2.53\n",
       "20    afinitor   Abdominal tenderness                       3   2.2172013 1.35\n",
       "21    afinitor   Abdominal wall disorder                    1   0.4751146 2.10\n",
       "22    afinitor   Abdominal wound dehiscence                 1   0.9502291 1.05\n",
       "23    afinitor   Abnormal behaviour                        21  20.5882979 1.02\n",
       "24    afinitor   Abnormal dreams                            1   3.6425450 0.27\n",
       "25    afinitor   Abnormal faeces                            3   1.2669722 2.37\n",
       "26    afinitor   Abnormal loss of weight                    2   0.9502291 2.10\n",
       "27    afinitor   Abortion spontaneous                       1   4.4344026 0.23\n",
       "28    afinitor   Abscess                                   10   6.6516039 1.50\n",
       "29    afinitor   ABSCESS JAW                                1   0.1583715 6.31\n",
       "30    afinitor   Abscess limb                               3   1.2669722 2.37\n",
       "⋮     ⋮          ⋮                                        ⋮   ⋮           ⋮   \n",
       "15098 QUETIAPINE WOLFF-PARKINSON-WHITE SYNDROME            1   0.4652856  2.15\n",
       "15099 QUETIAPINE Wound                                    17  20.4725665  0.83\n",
       "15100 QUETIAPINE WOUND                                     1   0.4652856  2.15\n",
       "15101 QUETIAPINE Wound dehiscence                          2  23.2642802  0.09\n",
       "15102 QUETIAPINE WOUND DEHISCENCE                          2  11.6321401  0.17\n",
       "15103 QUETIAPINE Wound haemorrhage                         2   4.6528560  0.43\n",
       "15104 QUETIAPINE WOUND HAEMORRHAGE                         2   1.3958568  1.43\n",
       "15105 QUETIAPINE Wound healing normal                      3   1.3958568  2.15\n",
       "15106 QUETIAPINE Wound infection                           5  25.5907082  0.20\n",
       "15107 QUETIAPINE WOUND INFECTION                           2   5.5834272  0.36\n",
       "15108 QUETIAPINE Wound infection staphylococcal            4   1.8611424  2.15\n",
       "15109 QUETIAPINE WOUND INFECTION STAPHYLOCOCCAL            2   1.3958568  1.43\n",
       "15110 QUETIAPINE Wound secretion                           1   2.3264280  0.43\n",
       "15111 QUETIAPINE WOUND SECRETION                           1   3.2569992  0.31\n",
       "15112 QUETIAPINE Wrist fracture                            4   2.7917136  1.43\n",
       "15113 QUETIAPINE WRIST FRACTURE                            5   3.7222848  1.34\n",
       "15114 QUETIAPINE Wrist surgery                             1   0.4652856  2.15\n",
       "15115 QUETIAPINE Wrong drug                                1   0.4652856  2.15\n",
       "15116 QUETIAPINE Wrong drug administered                   9   4.1875704  2.15\n",
       "15117 QUETIAPINE WRONG DRUG ADMINISTERED                   3   1.3958568  2.15\n",
       "15118 QUETIAPINE Wrong patient received medication         5   2.3264280  2.15\n",
       "15119 QUETIAPINE Wrong product administered                4   1.8611424  2.15\n",
       "15120 QUETIAPINE Wrong strength                            2   0.9305712  2.15\n",
       "15121 QUETIAPINE Wrong technique in drug usage process     4   2.3264280  1.72\n",
       "15122 QUETIAPINE WRONG TECHNIQUE IN DRUG USAGE PROCESS     6   2.7917136  2.15\n",
       "15123 QUETIAPINE Wrong technique in product usage process 24  22.3337090  1.07\n",
       "15124 QUETIAPINE Xanthoma                                  4   1.8611424  2.15\n",
       "15125 QUETIAPINE Yawning                                   8   3.7222848  2.15\n",
       "15126 QUETIAPINE Yellow skin                               2   3.7222848  0.54\n",
       "15127 QUETIAPINE YELLOW SKIN                               1   0.9305712  1.07\n",
       "      PRR \n",
       "1      Inf\n",
       "2     3.32\n",
       "3     0.20\n",
       "4     1.59\n",
       "5     0.59\n",
       "6     2.69\n",
       "7     0.31\n",
       "8     2.71\n",
       "9     1.33\n",
       "10    2.66\n",
       "11    3.54\n",
       "12    3.19\n",
       "13     Inf\n",
       "14    1.33\n",
       "15    0.32\n",
       "16    1.44\n",
       "17    1.77\n",
       "18    0.57\n",
       "19    3.54\n",
       "20    1.45\n",
       "21    2.66\n",
       "22    1.06\n",
       "23    1.02\n",
       "24    0.24\n",
       "25    3.19\n",
       "26    2.66\n",
       "27    0.20\n",
       "28    1.66\n",
       "29     Inf\n",
       "30    3.19\n",
       "⋮     ⋮   \n",
       "15098  Inf\n",
       "15099 0.72\n",
       "15100  Inf\n",
       "15101 0.05\n",
       "15102 0.10\n",
       "15103 0.29\n",
       "15104 2.30\n",
       "15105  Inf\n",
       "15106 0.11\n",
       "15107 0.23\n",
       "15108  Inf\n",
       "15109 2.30\n",
       "15110 0.29\n",
       "15111 0.19\n",
       "15112 2.30\n",
       "15113 1.92\n",
       "15114  Inf\n",
       "15115  Inf\n",
       "15116  Inf\n",
       "15117  Inf\n",
       "15118  Inf\n",
       "15119  Inf\n",
       "15120  Inf\n",
       "15121 4.60\n",
       "15122  Inf\n",
       "15123 1.15\n",
       "15124  Inf\n",
       "15125  Inf\n",
       "15126 0.38\n",
       "15127 1.15"
      ]
     },
     "metadata": {},
     "output_type": "display_data"
    }
   ],
   "source": [
    "processRaw(data=df, stratify = FALSE,zeroes = FALSE)"
   ]
  },
  {
   "cell_type": "markdown",
   "metadata": {},
   "source": [
    "Take for example the first row in the above table. Small counts cause the RR to be unstable. That is when the a single observation for a low expected counted (E=0.15), the RR becomes large. \n",
    "\n",
    "For this reason, we will explore Empirical Bayes approach. "
   ]
  },
  {
   "cell_type": "markdown",
   "metadata": {},
   "source": [
    "## Empirical Bayes Approach\n",
    "\n",
    "In order to handle the issues of small counts, we will explore using the Gamma-Poisson Shrinker(GPS) model[[1]](#1). The emprical Bayes model shrinks the large RR  from small counts to a value much closer to \"null hypothesis\" value of 1. This shrinkage is larger for smaller counts and negligible for larger counts. \n",
    "\n",
    "The GPS model uses a Poisson ($\\mu_{ij}$) likelihood for actual cell count $N_{ij}$ and the expected counts $E_{ij}$ are treated as constants. We are interested in the ratio $\\lambda_{ij}=\\frac{\\mu_{ij}}{E_{ij}}$. The prior on $\\lambda$ is a mixture of two gamma distributions and thus the posterior is also a mixture of two gamma distributions. The Emprical Bayes Geometric Mean(EBGM) of the posterior distribution is normally used in place of RR. Additionally, we can use the quantiles as well. We will explore them below. In the Empirical Bayes approach, the prior is driven by the data and this implies that the known posterior distribution relies on a set of hyper-parameters derived from the prior distribution. \n",
    "\n",
    "### Estimating Hyperparameters\n",
    "\n",
    "The actual counts (N) and expected counts (E) are used to estimate the hyperparameters of the prior distribution. A large contingency table will have many cells, resulting in computational difficulties for the optimization routines needed for estimation. Data squashing [[1]](#1). transforms a set of 2-dimensional points to a smaller number of 3-dimensional points.For a given N, \"squashing\" combines points with similar Es into bins using a specified bin size and uses the average E within each bin as the E for that bin’s “superpoint”. The new superpoints are weighted by bin size. \n",
    "\n",
    "The hyperparameters are estimated by minimizing the negative log-likelihood function. \n",
    "\n",
    " The hyperparameters are denoted by the vector θ=(α1,β1,α2,β2,P). P is the mixture fraction. Hyperparameters can be calculated by exploring the parameter space of the likelihood function using either the full data set of Ns and Es or the squashed set. "
   ]
  },
  {
   "cell_type": "code",
   "execution_count": 70,
   "metadata": {
    "scrolled": false
   },
   "outputs": [
    {
     "data": {
      "text/html": [
       "<table>\n",
       "<caption>A data.frame: 6 × 3</caption>\n",
       "<thead>\n",
       "\t<tr><th></th><th scope=col>N</th><th scope=col>E</th><th scope=col>weight</th></tr>\n",
       "\t<tr><th></th><th scope=col>&lt;int&gt;</th><th scope=col>&lt;dbl&gt;</th><th scope=col>&lt;dbl&gt;</th></tr>\n",
       "</thead>\n",
       "<tbody>\n",
       "\t<tr><th scope=row>1</th><td>1</td><td>0.01649012</td><td>50</td></tr>\n",
       "\t<tr><th scope=row>2</th><td>1</td><td>0.01978815</td><td>50</td></tr>\n",
       "\t<tr><th scope=row>3</th><td>1</td><td>0.03660807</td><td>50</td></tr>\n",
       "\t<tr><th scope=row>4</th><td>1</td><td>0.05441740</td><td>50</td></tr>\n",
       "\t<tr><th scope=row>5</th><td>1</td><td>0.09036586</td><td>50</td></tr>\n",
       "\t<tr><th scope=row>6</th><td>1</td><td>0.14230198</td><td>50</td></tr>\n",
       "</tbody>\n",
       "</table>\n"
      ],
      "text/latex": [
       "A data.frame: 6 × 3\n",
       "\\begin{tabular}{r|lll}\n",
       "  & N & E & weight\\\\\n",
       "  & <int> & <dbl> & <dbl>\\\\\n",
       "\\hline\n",
       "\t1 & 1 & 0.01649012 & 50\\\\\n",
       "\t2 & 1 & 0.01978815 & 50\\\\\n",
       "\t3 & 1 & 0.03660807 & 50\\\\\n",
       "\t4 & 1 & 0.05441740 & 50\\\\\n",
       "\t5 & 1 & 0.09036586 & 50\\\\\n",
       "\t6 & 1 & 0.14230198 & 50\\\\\n",
       "\\end{tabular}\n"
      ],
      "text/markdown": [
       "\n",
       "A data.frame: 6 × 3\n",
       "\n",
       "| <!--/--> | N &lt;int&gt; | E &lt;dbl&gt; | weight &lt;dbl&gt; |\n",
       "|---|---|---|---|\n",
       "| 1 | 1 | 0.01649012 | 50 |\n",
       "| 2 | 1 | 0.01978815 | 50 |\n",
       "| 3 | 1 | 0.03660807 | 50 |\n",
       "| 4 | 1 | 0.05441740 | 50 |\n",
       "| 5 | 1 | 0.09036586 | 50 |\n",
       "| 6 | 1 | 0.14230198 | 50 |\n",
       "\n"
      ],
      "text/plain": [
       "  N E          weight\n",
       "1 1 0.01649012 50    \n",
       "2 1 0.01978815 50    \n",
       "3 1 0.03660807 50    \n",
       "4 1 0.05441740 50    \n",
       "5 1 0.09036586 50    \n",
       "6 1 0.14230198 50    "
      ]
     },
     "metadata": {},
     "output_type": "display_data"
    }
   ],
   "source": [
    "processed=processRaw(data=df)\n",
    "squashed <- squashData(processed) #Using defaults\n",
    "head(squashed)"
   ]
  },
  {
   "cell_type": "markdown",
   "metadata": {},
   "source": [
    "**Likelihood Functions**"
   ]
  },
  {
   "cell_type": "code",
   "execution_count": 85,
   "metadata": {
    "scrolled": true
   },
   "outputs": [
    {
     "data": {
      "text/html": [
       "<dl>\n",
       "\t<dt>$minimum</dt>\n",
       "\t\t<dd>29891.6386950024</dd>\n",
       "\t<dt>$estimate</dt>\n",
       "\t\t<dd><style>\n",
       ".list-inline {list-style: none; margin:0; padding: 0}\n",
       ".list-inline>li {display: inline-block}\n",
       ".list-inline>li:not(:last-child)::after {content: \"\\00b7\"; padding: 0 .5ex}\n",
       "</style>\n",
       "<ol class=list-inline><li>5.83332712844441e-07</li><li>0.546333837368675</li><li>3.49360052388097</li><li>2.78029795963034</li><li>0.241074409612934</li></ol>\n",
       "</dd>\n",
       "\t<dt>$gradient</dt>\n",
       "\t\t<dd><style>\n",
       ".list-inline {list-style: none; margin:0; padding: 0}\n",
       ".list-inline>li {display: inline-block}\n",
       ".list-inline>li:not(:last-child)::after {content: \"\\00b7\"; padding: 0 .5ex}\n",
       "</style>\n",
       "<ol class=list-inline><li>-170.392781001283</li><li>190.655264304951</li><li>-1.84972179978459</li><li>-63.2574372967494</li><li>433.278783020796</li></ol>\n",
       "</dd>\n",
       "\t<dt>$code</dt>\n",
       "\t\t<dd>2</dd>\n",
       "\t<dt>$iterations</dt>\n",
       "\t\t<dd>56</dd>\n",
       "</dl>\n"
      ],
      "text/latex": [
       "\\begin{description}\n",
       "\\item[\\$minimum] 29891.6386950024\n",
       "\\item[\\$estimate] \\begin{enumerate*}\n",
       "\\item 5.83332712844441e-07\n",
       "\\item 0.546333837368675\n",
       "\\item 3.49360052388097\n",
       "\\item 2.78029795963034\n",
       "\\item 0.241074409612934\n",
       "\\end{enumerate*}\n",
       "\n",
       "\\item[\\$gradient] \\begin{enumerate*}\n",
       "\\item -170.392781001283\n",
       "\\item 190.655264304951\n",
       "\\item -1.84972179978459\n",
       "\\item -63.2574372967494\n",
       "\\item 433.278783020796\n",
       "\\end{enumerate*}\n",
       "\n",
       "\\item[\\$code] 2\n",
       "\\item[\\$iterations] 56\n",
       "\\end{description}\n"
      ],
      "text/markdown": [
       "$minimum\n",
       ":   29891.6386950024\n",
       "$estimate\n",
       ":   1. 5.83332712844441e-07\n",
       "2. 0.546333837368675\n",
       "3. 3.49360052388097\n",
       "4. 2.78029795963034\n",
       "5. 0.241074409612934\n",
       "\n",
       "\n",
       "\n",
       "$gradient\n",
       ":   1. -170.392781001283\n",
       "2. 190.655264304951\n",
       "3. -1.84972179978459\n",
       "4. -63.2574372967494\n",
       "5. 433.278783020796\n",
       "\n",
       "\n",
       "\n",
       "$code\n",
       ":   2\n",
       "$iterations\n",
       ":   56\n",
       "\n",
       "\n"
      ],
      "text/plain": [
       "$minimum\n",
       "[1] 29891.64\n",
       "\n",
       "$estimate\n",
       "[1] 5.833327e-07 5.463338e-01 3.493601e+00 2.780298e+00 2.410744e-01\n",
       "\n",
       "$gradient\n",
       "[1] -170.392781  190.655264   -1.849722  -63.257437  433.278783\n",
       "\n",
       "$code\n",
       "[1] 2\n",
       "\n",
       "$iterations\n",
       "[1] 56\n"
      ]
     },
     "metadata": {},
     "output_type": "display_data"
    }
   ],
   "source": [
    "theta_init <- c(alpha1 = 0.2, beta1 = 0.1, alpha2 = 2, beta2 = 4, p = 1/3)# These values are taken from the example in the R package documentation\n",
    "stats::nlm(negLLsquash, p = theta_init,\n",
    "           ni = squashed$N, ei = squashed$E, wi = squashed$weight, N_star = 1)"
   ]
  },
  {
   "cell_type": "code",
   "execution_count": 72,
   "metadata": {},
   "outputs": [],
   "source": [
    "theta_init <- data.frame(alpha1 = c(0.2, 0.1, 0.3),\n",
    "                         beta1  = c(0.1, 0.2, 0.5),\n",
    "                         alpha2 = c(2,   10,  6),\n",
    "                         beta2  = c(4,   10,  6),\n",
    "                         p      = c(1/3, 0.2, 0.5)\n",
    ")"
   ]
  },
  {
   "cell_type": "code",
   "execution_count": 73,
   "metadata": {},
   "outputs": [
    {
     "data": {
      "text/plain": [
       "   user  system elapsed \n",
       "  4.983   0.000   4.983 "
      ]
     },
     "metadata": {},
     "output_type": "display_data"
    }
   ],
   "source": [
    "squashed2 <- squashData(squashed, count = 2, bin_size = 10, keep_pts = 50)\n",
    "system.time(\n",
    "hyper_estimates_squashed <- autoHyper(data = squashed2, theta_init = theta_init)\n",
    ")"
   ]
  },
  {
   "cell_type": "code",
   "execution_count": 74,
   "metadata": {},
   "outputs": [
    {
     "data": {
      "text/html": [
       "<dl>\n",
       "\t<dt>$method</dt>\n",
       "\t\t<dd>'nlminb'</dd>\n",
       "\t<dt>$estimates</dt>\n",
       "\t\t<dd><style>\n",
       ".dl-inline {width: auto; margin:0; padding: 0}\n",
       ".dl-inline>dt, .dl-inline>dd {float: none; width: auto; display: inline-block}\n",
       ".dl-inline>dt::after {content: \":\\0020\"; padding-right: .5ex}\n",
       ".dl-inline>dt:not(:first-of-type) {padding-left: .5ex}\n",
       "</style><dl class=dl-inline><dt>alpha1</dt><dd>1.09186011674665</dd><dt>beta1</dt><dd>1.39196677976791</dd><dt>alpha2</dt><dd>35.6404464222776</dd><dt>beta2</dt><dd>21.2380041472264</dd><dt>P</dt><dd>0.676402735744859</dd></dl>\n",
       "</dd>\n",
       "\t<dt>$conf_int</dt>\n",
       "\t\t<dd>NULL</dd>\n",
       "\t<dt>$num_close</dt>\n",
       "\t\t<dd>1</dd>\n",
       "\t<dt>$theta_hats</dt>\n",
       "\t\t<dd><table>\n",
       "<caption>A data.frame: 3 × 10</caption>\n",
       "<thead>\n",
       "\t<tr><th scope=col>guess_num</th><th scope=col>a1_hat</th><th scope=col>b1_hat</th><th scope=col>a2_hat</th><th scope=col>b2_hat</th><th scope=col>p_hat</th><th scope=col>code</th><th scope=col>converge</th><th scope=col>in_bounds</th><th scope=col>minimum</th></tr>\n",
       "\t<tr><th scope=col>&lt;int&gt;</th><th scope=col>&lt;dbl&gt;</th><th scope=col>&lt;dbl&gt;</th><th scope=col>&lt;dbl&gt;</th><th scope=col>&lt;dbl&gt;</th><th scope=col>&lt;dbl&gt;</th><th scope=col>&lt;int&gt;</th><th scope=col>&lt;lgl&gt;</th><th scope=col>&lt;lgl&gt;</th><th scope=col>&lt;dbl&gt;</th></tr>\n",
       "</thead>\n",
       "<tbody>\n",
       "\t<tr><td>1</td><td>1.078247e-07</td><td>0.3882112</td><td> 4.584348</td><td> 3.72061</td><td>0.2291864</td><td>0</td><td>TRUE</td><td>TRUE</td><td>29851.95</td></tr>\n",
       "\t<tr><td>2</td><td>1.091860e+00</td><td>1.3919670</td><td>35.640278</td><td>21.23790</td><td>0.6764025</td><td>0</td><td>TRUE</td><td>TRUE</td><td>29833.21</td></tr>\n",
       "\t<tr><td>3</td><td>1.091860e+00</td><td>1.3919668</td><td>35.640446</td><td>21.23800</td><td>0.6764027</td><td>0</td><td>TRUE</td><td>TRUE</td><td>29833.21</td></tr>\n",
       "</tbody>\n",
       "</table>\n",
       "</dd>\n",
       "</dl>\n"
      ],
      "text/latex": [
       "\\begin{description}\n",
       "\\item[\\$method] 'nlminb'\n",
       "\\item[\\$estimates] \\begin{description*}\n",
       "\\item[alpha1] 1.09186011674665\n",
       "\\item[beta1] 1.39196677976791\n",
       "\\item[alpha2] 35.6404464222776\n",
       "\\item[beta2] 21.2380041472264\n",
       "\\item[P] 0.676402735744859\n",
       "\\end{description*}\n",
       "\n",
       "\\item[\\$conf\\_int] NULL\n",
       "\\item[\\$num\\_close] 1\n",
       "\\item[\\$theta\\_hats] A data.frame: 3 × 10\n",
       "\\begin{tabular}{llllllllll}\n",
       " guess\\_num & a1\\_hat & b1\\_hat & a2\\_hat & b2\\_hat & p\\_hat & code & converge & in\\_bounds & minimum\\\\\n",
       " <int> & <dbl> & <dbl> & <dbl> & <dbl> & <dbl> & <int> & <lgl> & <lgl> & <dbl>\\\\\n",
       "\\hline\n",
       "\t 1 & 1.078247e-07 & 0.3882112 &  4.584348 &  3.72061 & 0.2291864 & 0 & TRUE & TRUE & 29851.95\\\\\n",
       "\t 2 & 1.091860e+00 & 1.3919670 & 35.640278 & 21.23790 & 0.6764025 & 0 & TRUE & TRUE & 29833.21\\\\\n",
       "\t 3 & 1.091860e+00 & 1.3919668 & 35.640446 & 21.23800 & 0.6764027 & 0 & TRUE & TRUE & 29833.21\\\\\n",
       "\\end{tabular}\n",
       "\n",
       "\\end{description}\n"
      ],
      "text/markdown": [
       "$method\n",
       ":   'nlminb'\n",
       "$estimates\n",
       ":   alpha1\n",
       ":   1.09186011674665beta1\n",
       ":   1.39196677976791alpha2\n",
       ":   35.6404464222776beta2\n",
       ":   21.2380041472264P\n",
       ":   0.676402735744859\n",
       "\n",
       "\n",
       "$conf_int\n",
       ":   NULL\n",
       "$num_close\n",
       ":   1\n",
       "$theta_hats\n",
       ":   \n",
       "A data.frame: 3 × 10\n",
       "\n",
       "| guess_num &lt;int&gt; | a1_hat &lt;dbl&gt; | b1_hat &lt;dbl&gt; | a2_hat &lt;dbl&gt; | b2_hat &lt;dbl&gt; | p_hat &lt;dbl&gt; | code &lt;int&gt; | converge &lt;lgl&gt; | in_bounds &lt;lgl&gt; | minimum &lt;dbl&gt; |\n",
       "|---|---|---|---|---|---|---|---|---|---|\n",
       "| 1 | 1.078247e-07 | 0.3882112 |  4.584348 |  3.72061 | 0.2291864 | 0 | TRUE | TRUE | 29851.95 |\n",
       "| 2 | 1.091860e+00 | 1.3919670 | 35.640278 | 21.23790 | 0.6764025 | 0 | TRUE | TRUE | 29833.21 |\n",
       "| 3 | 1.091860e+00 | 1.3919668 | 35.640446 | 21.23800 | 0.6764027 | 0 | TRUE | TRUE | 29833.21 |\n",
       "\n",
       "\n",
       "\n",
       "\n"
      ],
      "text/plain": [
       "$method\n",
       "[1] \"nlminb\"\n",
       "\n",
       "$estimates\n",
       "    alpha1      beta1     alpha2      beta2          P \n",
       " 1.0918601  1.3919668 35.6404464 21.2380041  0.6764027 \n",
       "\n",
       "$conf_int\n",
       "NULL\n",
       "\n",
       "$num_close\n",
       "[1] 1\n",
       "\n",
       "$theta_hats\n",
       "  guess_num       a1_hat    b1_hat    a2_hat   b2_hat     p_hat code converge\n",
       "1         1 1.078247e-07 0.3882112  4.584348  3.72061 0.2291864    0     TRUE\n",
       "2         2 1.091860e+00 1.3919670 35.640278 21.23790 0.6764025    0     TRUE\n",
       "3         3 1.091860e+00 1.3919668 35.640446 21.23800 0.6764027    0     TRUE\n",
       "  in_bounds  minimum\n",
       "1      TRUE 29851.95\n",
       "2      TRUE 29833.21\n",
       "3      TRUE 29833.21\n"
      ]
     },
     "metadata": {},
     "output_type": "display_data"
    }
   ],
   "source": [
    "hyper_estimates_squashed"
   ]
  },
  {
   "cell_type": "code",
   "execution_count": 75,
   "metadata": {},
   "outputs": [
    {
     "data": {
      "text/html": [
       "<dl>\n",
       "\t<dt>$estimates</dt>\n",
       "\t\t<dd><table>\n",
       "<caption>A data.frame: 3 × 10</caption>\n",
       "<thead>\n",
       "\t<tr><th scope=col>guess_num</th><th scope=col>a1_hat</th><th scope=col>b1_hat</th><th scope=col>a2_hat</th><th scope=col>b2_hat</th><th scope=col>p_hat</th><th scope=col>code</th><th scope=col>converge</th><th scope=col>in_bounds</th><th scope=col>minimum</th></tr>\n",
       "\t<tr><th scope=col>&lt;int&gt;</th><th scope=col>&lt;dbl&gt;</th><th scope=col>&lt;dbl&gt;</th><th scope=col>&lt;dbl&gt;</th><th scope=col>&lt;dbl&gt;</th><th scope=col>&lt;dbl&gt;</th><th scope=col>&lt;int&gt;</th><th scope=col>&lt;lgl&gt;</th><th scope=col>&lt;lgl&gt;</th><th scope=col>&lt;dbl&gt;</th></tr>\n",
       "</thead>\n",
       "<tbody>\n",
       "\t<tr><td>1</td><td>1.078247e-07</td><td>0.3882112</td><td> 4.584348</td><td> 3.72061</td><td>0.2291864</td><td>0</td><td>TRUE</td><td>TRUE</td><td>29851.95</td></tr>\n",
       "\t<tr><td>2</td><td>1.091860e+00</td><td>1.3919670</td><td>35.640278</td><td>21.23790</td><td>0.6764025</td><td>0</td><td>TRUE</td><td>TRUE</td><td>29833.21</td></tr>\n",
       "\t<tr><td>3</td><td>1.091860e+00</td><td>1.3919668</td><td>35.640446</td><td>21.23800</td><td>0.6764027</td><td>0</td><td>TRUE</td><td>TRUE</td><td>29833.21</td></tr>\n",
       "</tbody>\n",
       "</table>\n",
       "</dd>\n",
       "\t<dt>$std_errs</dt>\n",
       "\t\t<dd><table>\n",
       "<caption>A data.frame: 3 × 6</caption>\n",
       "<thead>\n",
       "\t<tr><th scope=col>guess_num</th><th scope=col>a1_se</th><th scope=col>b1_se</th><th scope=col>a2_se</th><th scope=col>b2_se</th><th scope=col>p_se</th></tr>\n",
       "\t<tr><th scope=col>&lt;int&gt;</th><th scope=col>&lt;dbl&gt;</th><th scope=col>&lt;dbl&gt;</th><th scope=col>&lt;dbl&gt;</th><th scope=col>&lt;dbl&gt;</th><th scope=col>&lt;dbl&gt;</th></tr>\n",
       "</thead>\n",
       "<tbody>\n",
       "\t<tr><td>1</td><td>        NA</td><td>        NA</td><td>      NA</td><td>      NA</td><td>        NA</td></tr>\n",
       "\t<tr><td>2</td><td>0.05488192</td><td>0.05198806</td><td>6.908189</td><td>3.866345</td><td>0.01783129</td></tr>\n",
       "\t<tr><td>3</td><td>0.05488263</td><td>0.05198844</td><td>6.908578</td><td>3.866567</td><td>0.01783169</td></tr>\n",
       "</tbody>\n",
       "</table>\n",
       "</dd>\n",
       "</dl>\n"
      ],
      "text/latex": [
       "\\begin{description}\n",
       "\\item[\\$estimates] A data.frame: 3 × 10\n",
       "\\begin{tabular}{llllllllll}\n",
       " guess\\_num & a1\\_hat & b1\\_hat & a2\\_hat & b2\\_hat & p\\_hat & code & converge & in\\_bounds & minimum\\\\\n",
       " <int> & <dbl> & <dbl> & <dbl> & <dbl> & <dbl> & <int> & <lgl> & <lgl> & <dbl>\\\\\n",
       "\\hline\n",
       "\t 1 & 1.078247e-07 & 0.3882112 &  4.584348 &  3.72061 & 0.2291864 & 0 & TRUE & TRUE & 29851.95\\\\\n",
       "\t 2 & 1.091860e+00 & 1.3919670 & 35.640278 & 21.23790 & 0.6764025 & 0 & TRUE & TRUE & 29833.21\\\\\n",
       "\t 3 & 1.091860e+00 & 1.3919668 & 35.640446 & 21.23800 & 0.6764027 & 0 & TRUE & TRUE & 29833.21\\\\\n",
       "\\end{tabular}\n",
       "\n",
       "\\item[\\$std\\_errs] A data.frame: 3 × 6\n",
       "\\begin{tabular}{llllll}\n",
       " guess\\_num & a1\\_se & b1\\_se & a2\\_se & b2\\_se & p\\_se\\\\\n",
       " <int> & <dbl> & <dbl> & <dbl> & <dbl> & <dbl>\\\\\n",
       "\\hline\n",
       "\t 1 &         NA &         NA &       NA &       NA &         NA\\\\\n",
       "\t 2 & 0.05488192 & 0.05198806 & 6.908189 & 3.866345 & 0.01783129\\\\\n",
       "\t 3 & 0.05488263 & 0.05198844 & 6.908578 & 3.866567 & 0.01783169\\\\\n",
       "\\end{tabular}\n",
       "\n",
       "\\end{description}\n"
      ],
      "text/markdown": [
       "$estimates\n",
       ":   \n",
       "A data.frame: 3 × 10\n",
       "\n",
       "| guess_num &lt;int&gt; | a1_hat &lt;dbl&gt; | b1_hat &lt;dbl&gt; | a2_hat &lt;dbl&gt; | b2_hat &lt;dbl&gt; | p_hat &lt;dbl&gt; | code &lt;int&gt; | converge &lt;lgl&gt; | in_bounds &lt;lgl&gt; | minimum &lt;dbl&gt; |\n",
       "|---|---|---|---|---|---|---|---|---|---|\n",
       "| 1 | 1.078247e-07 | 0.3882112 |  4.584348 |  3.72061 | 0.2291864 | 0 | TRUE | TRUE | 29851.95 |\n",
       "| 2 | 1.091860e+00 | 1.3919670 | 35.640278 | 21.23790 | 0.6764025 | 0 | TRUE | TRUE | 29833.21 |\n",
       "| 3 | 1.091860e+00 | 1.3919668 | 35.640446 | 21.23800 | 0.6764027 | 0 | TRUE | TRUE | 29833.21 |\n",
       "\n",
       "\n",
       "$std_errs\n",
       ":   \n",
       "A data.frame: 3 × 6\n",
       "\n",
       "| guess_num &lt;int&gt; | a1_se &lt;dbl&gt; | b1_se &lt;dbl&gt; | a2_se &lt;dbl&gt; | b2_se &lt;dbl&gt; | p_se &lt;dbl&gt; |\n",
       "|---|---|---|---|---|---|\n",
       "| 1 |         NA |         NA |       NA |       NA |         NA |\n",
       "| 2 | 0.05488192 | 0.05198806 | 6.908189 | 3.866345 | 0.01783129 |\n",
       "| 3 | 0.05488263 | 0.05198844 | 6.908578 | 3.866567 | 0.01783169 |\n",
       "\n",
       "\n",
       "\n",
       "\n"
      ],
      "text/plain": [
       "$estimates\n",
       "  guess_num       a1_hat    b1_hat    a2_hat   b2_hat     p_hat code converge\n",
       "1         1 1.078247e-07 0.3882112  4.584348  3.72061 0.2291864    0     TRUE\n",
       "2         2 1.091860e+00 1.3919670 35.640278 21.23790 0.6764025    0     TRUE\n",
       "3         3 1.091860e+00 1.3919668 35.640446 21.23800 0.6764027    0     TRUE\n",
       "  in_bounds  minimum\n",
       "1      TRUE 29851.95\n",
       "2      TRUE 29833.21\n",
       "3      TRUE 29833.21\n",
       "\n",
       "$std_errs\n",
       "  guess_num      a1_se      b1_se    a2_se    b2_se       p_se\n",
       "1         1         NA         NA       NA       NA         NA\n",
       "2         2 0.05488192 0.05198806 6.908189 3.866345 0.01783129\n",
       "3         3 0.05488263 0.05198844 6.908578 3.866567 0.01783169\n"
      ]
     },
     "metadata": {},
     "output_type": "display_data"
    }
   ],
   "source": [
    "exploreHypers(data = squashed2, theta_init = theta_init, std_errors = TRUE)"
   ]
  },
  {
   "cell_type": "code",
   "execution_count": 77,
   "metadata": {},
   "outputs": [
    {
     "data": {
      "text/html": [
       "<style>\n",
       ".dl-inline {width: auto; margin:0; padding: 0}\n",
       ".dl-inline>dt, .dl-inline>dd {float: none; width: auto; display: inline-block}\n",
       ".dl-inline>dt::after {content: \":\\0020\"; padding-right: .5ex}\n",
       ".dl-inline>dt:not(:first-of-type) {padding-left: .5ex}\n",
       "</style><dl class=dl-inline><dt>alpha1</dt><dd>1.09186011674665</dd><dt>beta1</dt><dd>1.39196677976791</dd><dt>alpha2</dt><dd>35.6404464222776</dd><dt>beta2</dt><dd>21.2380041472264</dd><dt>P</dt><dd>0.676402735744859</dd></dl>\n"
      ],
      "text/latex": [
       "\\begin{description*}\n",
       "\\item[alpha1] 1.09186011674665\n",
       "\\item[beta1] 1.39196677976791\n",
       "\\item[alpha2] 35.6404464222776\n",
       "\\item[beta2] 21.2380041472264\n",
       "\\item[P] 0.676402735744859\n",
       "\\end{description*}\n"
      ],
      "text/markdown": [
       "alpha1\n",
       ":   1.09186011674665beta1\n",
       ":   1.39196677976791alpha2\n",
       ":   35.6404464222776beta2\n",
       ":   21.2380041472264P\n",
       ":   0.676402735744859\n",
       "\n"
      ],
      "text/plain": [
       "    alpha1      beta1     alpha2      beta2          P \n",
       " 1.0918601  1.3919668 35.6404464 21.2380041  0.6764027 "
      ]
     },
     "metadata": {},
     "output_type": "display_data"
    }
   ],
   "source": [
    "(theta_hat <- hyper_estimates_squashed$estimates)\n"
   ]
  },
  {
   "cell_type": "code",
   "execution_count": 78,
   "metadata": {},
   "outputs": [
    {
     "data": {
      "text/html": [
       "<style>\n",
       ".list-inline {list-style: none; margin:0; padding: 0}\n",
       ".list-inline>li {display: inline-block}\n",
       ".list-inline>li:not(:last-child)::after {content: \"\\00b7\"; padding: 0 .5ex}\n",
       "</style>\n",
       "<ol class=list-inline><li>0.505892071442557</li><li>0.328521025343785</li><li>0.977262517851013</li><li>0.481203190444743</li><li>0.735490518595538</li><li>0.272393735267147</li></ol>\n"
      ],
      "text/latex": [
       "\\begin{enumerate*}\n",
       "\\item 0.505892071442557\n",
       "\\item 0.328521025343785\n",
       "\\item 0.977262517851013\n",
       "\\item 0.481203190444743\n",
       "\\item 0.735490518595538\n",
       "\\item 0.272393735267147\n",
       "\\end{enumerate*}\n"
      ],
      "text/markdown": [
       "1. 0.505892071442557\n",
       "2. 0.328521025343785\n",
       "3. 0.977262517851013\n",
       "4. 0.481203190444743\n",
       "5. 0.735490518595538\n",
       "6. 0.272393735267147\n",
       "\n",
       "\n"
      ],
      "text/plain": [
       "[1] 0.5058921 0.3285210 0.9772625 0.4812032 0.7354905 0.2723937"
      ]
     },
     "metadata": {},
     "output_type": "display_data"
    }
   ],
   "source": [
    "#Qn() correspond to the probability that λ came from the first component of the posterior mixture\n",
    "qn <- Qn(theta_hat, N = processed$N, E = processed$E)#calculates the mixture fractions for the posterior distributions.\n",
    "head(qn)"
   ]
  },
  {
   "cell_type": "code",
   "execution_count": 86,
   "metadata": {},
   "outputs": [
    {
     "data": {
      "text/html": [
       "TRUE"
      ],
      "text/latex": [
       "TRUE"
      ],
      "text/markdown": [
       "TRUE"
      ],
      "text/plain": [
       "[1] TRUE"
      ]
     },
     "metadata": {},
     "output_type": "display_data"
    }
   ],
   "source": [
    "identical(length(qn), nrow(processed))# Qn output should match the number of rows in the original data"
   ]
  },
  {
   "cell_type": "code",
   "execution_count": 80,
   "metadata": {},
   "outputs": [
    {
     "data": {
      "text/html": [
       "<table>\n",
       "<caption>A data.frame: 6 × 7</caption>\n",
       "<thead>\n",
       "\t<tr><th></th><th scope=col>var1</th><th scope=col>var2</th><th scope=col>N</th><th scope=col>E</th><th scope=col>RR</th><th scope=col>PRR</th><th scope=col>ebgm</th></tr>\n",
       "\t<tr><th></th><th scope=col>&lt;fct&gt;</th><th scope=col>&lt;fct&gt;</th><th scope=col>&lt;int&gt;</th><th scope=col>&lt;dbl&gt;</th><th scope=col>&lt;dbl&gt;</th><th scope=col>&lt;dbl&gt;</th><th scope=col>&lt;dbl&gt;</th></tr>\n",
       "</thead>\n",
       "<tbody>\n",
       "\t<tr><th scope=row>1</th><td>afinitor</td><td>5-hydroxyindolacetic acid increased</td><td> 1</td><td> 0.1583715</td><td>6.31</td><td> Inf</td><td>1.32</td></tr>\n",
       "\t<tr><th scope=row>2</th><td>afinitor</td><td>Abasia                             </td><td>10</td><td> 4.1176596</td><td>2.43</td><td>3.32</td><td>1.83</td></tr>\n",
       "\t<tr><th scope=row>3</th><td>afinitor</td><td>Abdominal abscess                  </td><td> 1</td><td> 4.2760311</td><td>0.23</td><td>0.20</td><td>0.30</td></tr>\n",
       "\t<tr><th scope=row>4</th><td>afinitor</td><td>Abdominal adhesions                </td><td> 3</td><td> 2.0588298</td><td>1.46</td><td>1.59</td><td>1.32</td></tr>\n",
       "\t<tr><th scope=row>5</th><td>afinitor</td><td>Abdominal compartment syndrome     </td><td> 1</td><td> 1.5837152</td><td>0.63</td><td>0.59</td><td>0.72</td></tr>\n",
       "\t<tr><th scope=row>6</th><td>afinitor</td><td>Abdominal discomfort               </td><td>36</td><td>16.9457529</td><td>2.12</td><td>2.69</td><td>1.90</td></tr>\n",
       "</tbody>\n",
       "</table>\n"
      ],
      "text/latex": [
       "A data.frame: 6 × 7\n",
       "\\begin{tabular}{r|lllllll}\n",
       "  & var1 & var2 & N & E & RR & PRR & ebgm\\\\\n",
       "  & <fct> & <fct> & <int> & <dbl> & <dbl> & <dbl> & <dbl>\\\\\n",
       "\\hline\n",
       "\t1 & afinitor & 5-hydroxyindolacetic acid increased &  1 &  0.1583715 & 6.31 &  Inf & 1.32\\\\\n",
       "\t2 & afinitor & Abasia                              & 10 &  4.1176596 & 2.43 & 3.32 & 1.83\\\\\n",
       "\t3 & afinitor & Abdominal abscess                   &  1 &  4.2760311 & 0.23 & 0.20 & 0.30\\\\\n",
       "\t4 & afinitor & Abdominal adhesions                 &  3 &  2.0588298 & 1.46 & 1.59 & 1.32\\\\\n",
       "\t5 & afinitor & Abdominal compartment syndrome      &  1 &  1.5837152 & 0.63 & 0.59 & 0.72\\\\\n",
       "\t6 & afinitor & Abdominal discomfort                & 36 & 16.9457529 & 2.12 & 2.69 & 1.90\\\\\n",
       "\\end{tabular}\n"
      ],
      "text/markdown": [
       "\n",
       "A data.frame: 6 × 7\n",
       "\n",
       "| <!--/--> | var1 &lt;fct&gt; | var2 &lt;fct&gt; | N &lt;int&gt; | E &lt;dbl&gt; | RR &lt;dbl&gt; | PRR &lt;dbl&gt; | ebgm &lt;dbl&gt; |\n",
       "|---|---|---|---|---|---|---|---|\n",
       "| 1 | afinitor | 5-hydroxyindolacetic acid increased |  1 |  0.1583715 | 6.31 |  Inf | 1.32 |\n",
       "| 2 | afinitor | Abasia                              | 10 |  4.1176596 | 2.43 | 3.32 | 1.83 |\n",
       "| 3 | afinitor | Abdominal abscess                   |  1 |  4.2760311 | 0.23 | 0.20 | 0.30 |\n",
       "| 4 | afinitor | Abdominal adhesions                 |  3 |  2.0588298 | 1.46 | 1.59 | 1.32 |\n",
       "| 5 | afinitor | Abdominal compartment syndrome      |  1 |  1.5837152 | 0.63 | 0.59 | 0.72 |\n",
       "| 6 | afinitor | Abdominal discomfort                | 36 | 16.9457529 | 2.12 | 2.69 | 1.90 |\n",
       "\n"
      ],
      "text/plain": [
       "  var1     var2                                N  E          RR   PRR  ebgm\n",
       "1 afinitor 5-hydroxyindolacetic acid increased  1  0.1583715 6.31  Inf 1.32\n",
       "2 afinitor Abasia                              10  4.1176596 2.43 3.32 1.83\n",
       "3 afinitor Abdominal abscess                    1  4.2760311 0.23 0.20 0.30\n",
       "4 afinitor Abdominal adhesions                  3  2.0588298 1.46 1.59 1.32\n",
       "5 afinitor Abdominal compartment syndrome       1  1.5837152 0.63 0.59 0.72\n",
       "6 afinitor Abdominal discomfort                36 16.9457529 2.12 2.69 1.90"
      ]
     },
     "metadata": {},
     "output_type": "display_data"
    }
   ],
   "source": [
    "#EBGM  is a measure of central tendency of the posterior distributions, λij|N=n\n",
    "processed$ebgm <- ebgm(theta_hat, N = processed$N, E = processed$E, qn  = qn)\n",
    "head(processed)"
   ]
  },
  {
   "cell_type": "code",
   "execution_count": 81,
   "metadata": {},
   "outputs": [
    {
     "data": {
      "text/html": [
       "<table>\n",
       "<caption>A data.frame: 6 × 9</caption>\n",
       "<thead>\n",
       "\t<tr><th></th><th scope=col>var1</th><th scope=col>var2</th><th scope=col>N</th><th scope=col>E</th><th scope=col>RR</th><th scope=col>PRR</th><th scope=col>ebgm</th><th scope=col>QUANT_05</th><th scope=col>QUANT_95</th></tr>\n",
       "\t<tr><th></th><th scope=col>&lt;fct&gt;</th><th scope=col>&lt;fct&gt;</th><th scope=col>&lt;int&gt;</th><th scope=col>&lt;dbl&gt;</th><th scope=col>&lt;dbl&gt;</th><th scope=col>&lt;dbl&gt;</th><th scope=col>&lt;dbl&gt;</th><th scope=col>&lt;dbl&gt;</th><th scope=col>&lt;dbl&gt;</th></tr>\n",
       "</thead>\n",
       "<tbody>\n",
       "\t<tr><th scope=row>1</th><td>afinitor</td><td>5-hydroxyindolacetic acid increased</td><td> 1</td><td> 0.1583715</td><td>6.31</td><td> Inf</td><td>1.32</td><td>0.37</td><td>2.62</td></tr>\n",
       "\t<tr><th scope=row>2</th><td>afinitor</td><td>Abasia                             </td><td>10</td><td> 4.1176596</td><td>2.43</td><td>3.32</td><td>1.83</td><td>1.31</td><td>2.64</td></tr>\n",
       "\t<tr><th scope=row>3</th><td>afinitor</td><td>Abdominal abscess                  </td><td> 1</td><td> 4.2760311</td><td>0.23</td><td>0.20</td><td>0.30</td><td>0.07</td><td>0.99</td></tr>\n",
       "\t<tr><th scope=row>4</th><td>afinitor</td><td>Abdominal adhesions                </td><td> 3</td><td> 2.0588298</td><td>1.46</td><td>1.59</td><td>1.32</td><td>0.53</td><td>2.17</td></tr>\n",
       "\t<tr><th scope=row>5</th><td>afinitor</td><td>Abdominal compartment syndrome     </td><td> 1</td><td> 1.5837152</td><td>0.63</td><td>0.59</td><td>0.72</td><td>0.16</td><td>1.92</td></tr>\n",
       "\t<tr><th scope=row>6</th><td>afinitor</td><td>Abdominal discomfort               </td><td>36</td><td>16.9457529</td><td>2.12</td><td>2.69</td><td>1.90</td><td>1.52</td><td>2.38</td></tr>\n",
       "</tbody>\n",
       "</table>\n"
      ],
      "text/latex": [
       "A data.frame: 6 × 9\n",
       "\\begin{tabular}{r|lllllllll}\n",
       "  & var1 & var2 & N & E & RR & PRR & ebgm & QUANT\\_05 & QUANT\\_95\\\\\n",
       "  & <fct> & <fct> & <int> & <dbl> & <dbl> & <dbl> & <dbl> & <dbl> & <dbl>\\\\\n",
       "\\hline\n",
       "\t1 & afinitor & 5-hydroxyindolacetic acid increased &  1 &  0.1583715 & 6.31 &  Inf & 1.32 & 0.37 & 2.62\\\\\n",
       "\t2 & afinitor & Abasia                              & 10 &  4.1176596 & 2.43 & 3.32 & 1.83 & 1.31 & 2.64\\\\\n",
       "\t3 & afinitor & Abdominal abscess                   &  1 &  4.2760311 & 0.23 & 0.20 & 0.30 & 0.07 & 0.99\\\\\n",
       "\t4 & afinitor & Abdominal adhesions                 &  3 &  2.0588298 & 1.46 & 1.59 & 1.32 & 0.53 & 2.17\\\\\n",
       "\t5 & afinitor & Abdominal compartment syndrome      &  1 &  1.5837152 & 0.63 & 0.59 & 0.72 & 0.16 & 1.92\\\\\n",
       "\t6 & afinitor & Abdominal discomfort                & 36 & 16.9457529 & 2.12 & 2.69 & 1.90 & 1.52 & 2.38\\\\\n",
       "\\end{tabular}\n"
      ],
      "text/markdown": [
       "\n",
       "A data.frame: 6 × 9\n",
       "\n",
       "| <!--/--> | var1 &lt;fct&gt; | var2 &lt;fct&gt; | N &lt;int&gt; | E &lt;dbl&gt; | RR &lt;dbl&gt; | PRR &lt;dbl&gt; | ebgm &lt;dbl&gt; | QUANT_05 &lt;dbl&gt; | QUANT_95 &lt;dbl&gt; |\n",
       "|---|---|---|---|---|---|---|---|---|---|\n",
       "| 1 | afinitor | 5-hydroxyindolacetic acid increased |  1 |  0.1583715 | 6.31 |  Inf | 1.32 | 0.37 | 2.62 |\n",
       "| 2 | afinitor | Abasia                              | 10 |  4.1176596 | 2.43 | 3.32 | 1.83 | 1.31 | 2.64 |\n",
       "| 3 | afinitor | Abdominal abscess                   |  1 |  4.2760311 | 0.23 | 0.20 | 0.30 | 0.07 | 0.99 |\n",
       "| 4 | afinitor | Abdominal adhesions                 |  3 |  2.0588298 | 1.46 | 1.59 | 1.32 | 0.53 | 2.17 |\n",
       "| 5 | afinitor | Abdominal compartment syndrome      |  1 |  1.5837152 | 0.63 | 0.59 | 0.72 | 0.16 | 1.92 |\n",
       "| 6 | afinitor | Abdominal discomfort                | 36 | 16.9457529 | 2.12 | 2.69 | 1.90 | 1.52 | 2.38 |\n",
       "\n"
      ],
      "text/plain": [
       "  var1     var2                                N  E          RR   PRR  ebgm\n",
       "1 afinitor 5-hydroxyindolacetic acid increased  1  0.1583715 6.31  Inf 1.32\n",
       "2 afinitor Abasia                              10  4.1176596 2.43 3.32 1.83\n",
       "3 afinitor Abdominal abscess                    1  4.2760311 0.23 0.20 0.30\n",
       "4 afinitor Abdominal adhesions                  3  2.0588298 1.46 1.59 1.32\n",
       "5 afinitor Abdominal compartment syndrome       1  1.5837152 0.63 0.59 0.72\n",
       "6 afinitor Abdominal discomfort                36 16.9457529 2.12 2.69 1.90\n",
       "  QUANT_05 QUANT_95\n",
       "1 0.37     2.62    \n",
       "2 1.31     2.64    \n",
       "3 0.07     0.99    \n",
       "4 0.53     2.17    \n",
       "5 0.16     1.92    \n",
       "6 1.52     2.38    "
      ]
     },
     "metadata": {},
     "output_type": "display_data"
    }
   ],
   "source": [
    "processed$QUANT_05 <- quantBisect(5, theta_hat = theta_hat,\n",
    "                                  N = processed$N, E = processed$E, qn = qn)\n",
    "processed$QUANT_95 <- quantBisect(95, theta_hat = theta_hat,\n",
    "                                  N = processed$N, E = processed$E, qn = qn)\n",
    "head(processed)"
   ]
  },
  {
   "cell_type": "code",
   "execution_count": 82,
   "metadata": {},
   "outputs": [
    {
     "data": {
      "text/html": [
       "98"
      ],
      "text/latex": [
       "98"
      ],
      "text/markdown": [
       "98"
      ],
      "text/plain": [
       "[1] 98"
      ]
     },
     "metadata": {},
     "output_type": "display_data"
    },
    {
     "data": {
      "text/html": [
       "15127"
      ],
      "text/latex": [
       "15127"
      ],
      "text/markdown": [
       "15127"
      ],
      "text/plain": [
       "[1] 15127"
      ]
     },
     "metadata": {},
     "output_type": "display_data"
    },
    {
     "data": {
      "text/html": [
       "0.00647848218417399"
      ],
      "text/latex": [
       "0.00647848218417399"
      ],
      "text/markdown": [
       "0.00647848218417399"
      ],
      "text/plain": [
       "[1] 0.006478482"
      ]
     },
     "metadata": {},
     "output_type": "display_data"
    }
   ],
   "source": [
    "suspicious <- processed[processed$QUANT_05 >= 2, ]\n",
    "nrow(suspicious); nrow(processed); nrow(suspicious)/nrow(processed)"
   ]
  },
  {
   "cell_type": "markdown",
   "metadata": {},
   "source": [
    "From the above, less than 1% of product-event pairs are suspect. "
   ]
  },
  {
   "cell_type": "code",
   "execution_count": 83,
   "metadata": {},
   "outputs": [
    {
     "data": {
      "text/html": [
       "<table>\n",
       "<caption>A data.frame: 5 × 7</caption>\n",
       "<thead>\n",
       "\t<tr><th></th><th scope=col>var1</th><th scope=col>var2</th><th scope=col>N</th><th scope=col>E</th><th scope=col>QUANT_05</th><th scope=col>ebgm</th><th scope=col>QUANT_95</th></tr>\n",
       "\t<tr><th></th><th scope=col>&lt;fct&gt;</th><th scope=col>&lt;fct&gt;</th><th scope=col>&lt;int&gt;</th><th scope=col>&lt;dbl&gt;</th><th scope=col>&lt;dbl&gt;</th><th scope=col>&lt;dbl&gt;</th><th scope=col>&lt;dbl&gt;</th></tr>\n",
       "</thead>\n",
       "<tbody>\n",
       "\t<tr><th scope=row>9071</th><td>carmustine</td><td>Venoocclusive liver disease</td><td>28</td><td>0.8409962</td><td>9.32</td><td>12.81</td><td>17.24</td></tr>\n",
       "\t<tr><th scope=row>8192</th><td>carmustine</td><td>Basal cell carcinoma       </td><td>27</td><td>0.8409962</td><td>8.95</td><td>12.36</td><td>16.72</td></tr>\n",
       "\t<tr><th scope=row>8742</th><td>carmustine</td><td>Myelodysplastic syndrome   </td><td>29</td><td>1.0553677</td><td>8.85</td><td>12.09</td><td>16.20</td></tr>\n",
       "\t<tr><th scope=row>8239</th><td>carmustine</td><td>Brain oedema               </td><td>26</td><td>1.2862294</td><td>7.14</td><td> 9.93</td><td>13.51</td></tr>\n",
       "\t<tr><th scope=row>8240</th><td>carmustine</td><td>BRAIN OEDEMA               </td><td>17</td><td>0.6101345</td><td>5.85</td><td> 8.79</td><td>12.79</td></tr>\n",
       "</tbody>\n",
       "</table>\n"
      ],
      "text/latex": [
       "A data.frame: 5 × 7\n",
       "\\begin{tabular}{r|lllllll}\n",
       "  & var1 & var2 & N & E & QUANT\\_05 & ebgm & QUANT\\_95\\\\\n",
       "  & <fct> & <fct> & <int> & <dbl> & <dbl> & <dbl> & <dbl>\\\\\n",
       "\\hline\n",
       "\t9071 & carmustine & Venoocclusive liver disease & 28 & 0.8409962 & 9.32 & 12.81 & 17.24\\\\\n",
       "\t8192 & carmustine & Basal cell carcinoma        & 27 & 0.8409962 & 8.95 & 12.36 & 16.72\\\\\n",
       "\t8742 & carmustine & Myelodysplastic syndrome    & 29 & 1.0553677 & 8.85 & 12.09 & 16.20\\\\\n",
       "\t8239 & carmustine & Brain oedema                & 26 & 1.2862294 & 7.14 &  9.93 & 13.51\\\\\n",
       "\t8240 & carmustine & BRAIN OEDEMA                & 17 & 0.6101345 & 5.85 &  8.79 & 12.79\\\\\n",
       "\\end{tabular}\n"
      ],
      "text/markdown": [
       "\n",
       "A data.frame: 5 × 7\n",
       "\n",
       "| <!--/--> | var1 &lt;fct&gt; | var2 &lt;fct&gt; | N &lt;int&gt; | E &lt;dbl&gt; | QUANT_05 &lt;dbl&gt; | ebgm &lt;dbl&gt; | QUANT_95 &lt;dbl&gt; |\n",
       "|---|---|---|---|---|---|---|---|\n",
       "| 9071 | carmustine | Venoocclusive liver disease | 28 | 0.8409962 | 9.32 | 12.81 | 17.24 |\n",
       "| 8192 | carmustine | Basal cell carcinoma        | 27 | 0.8409962 | 8.95 | 12.36 | 16.72 |\n",
       "| 8742 | carmustine | Myelodysplastic syndrome    | 29 | 1.0553677 | 8.85 | 12.09 | 16.20 |\n",
       "| 8239 | carmustine | Brain oedema                | 26 | 1.2862294 | 7.14 |  9.93 | 13.51 |\n",
       "| 8240 | carmustine | BRAIN OEDEMA                | 17 | 0.6101345 | 5.85 |  8.79 | 12.79 |\n",
       "\n"
      ],
      "text/plain": [
       "     var1       var2                        N  E         QUANT_05 ebgm \n",
       "9071 carmustine Venoocclusive liver disease 28 0.8409962 9.32     12.81\n",
       "8192 carmustine Basal cell carcinoma        27 0.8409962 8.95     12.36\n",
       "8742 carmustine Myelodysplastic syndrome    29 1.0553677 8.85     12.09\n",
       "8239 carmustine Brain oedema                26 1.2862294 7.14      9.93\n",
       "8240 carmustine BRAIN OEDEMA                17 0.6101345 5.85      8.79\n",
       "     QUANT_95\n",
       "9071 17.24   \n",
       "8192 16.72   \n",
       "8742 16.20   \n",
       "8239 13.51   \n",
       "8240 12.79   "
      ]
     },
     "metadata": {},
     "output_type": "display_data"
    }
   ],
   "source": [
    "suspicious <- suspicious[order(suspicious$QUANT_05, decreasing = TRUE),\n",
    "                         c(\"var1\", \"var2\", \"N\", \"E\", \"QUANT_05\", \"ebgm\", \n",
    "                           \"QUANT_95\")]\n",
    "head(suspicious, 5)"
   ]
  },
  {
   "cell_type": "markdown",
   "metadata": {},
   "source": [
    "From the above table, most suspicious (top 5) data all belongs \"carmustine\". Events such as venoocclusive liver disease, basal cell carcinoma etc are recorded much more than expected. These may need further investigation with subject matter experts and will depend on domain-knowledge."
   ]
  },
  {
   "cell_type": "code",
   "execution_count": 84,
   "metadata": {},
   "outputs": [
    {
     "data": {
      "text/plain": [
       "\n",
       "  afinitor carmustine    avastin QUETIAPINE \n",
       "        61         24         11          2 "
      ]
     },
     "metadata": {},
     "output_type": "display_data"
    }
   ],
   "source": [
    "tabbed <- table(suspicious$var1)\n",
    "head(tabbed[order(tabbed, decreasing = TRUE)])"
   ]
  },
  {
   "cell_type": "markdown",
   "metadata": {},
   "source": [
    "## Extension\n",
    "\n",
    "- We have stratified data based on gender and age. We can further augment the analysis to determine, if the adverse events are affecting a specific age/gender category.\n",
    "\n",
    "- Further hyper parameter optimisation\n",
    "\n",
    "- Some events have similar texts but are treated as separate events. We can use MEDDRA dictionoary (e.g HLT/HLGT) etc to standardise. We can use some form of text distances to align them. (https://www.meddra.org/how-to-use/basics/hierarchy)\n",
    "\n",
    "- The GPS model does not take into account product interaction. Multi-item Gamma Poisson Shrinker model  [[3]](#3) is currently used by FDA for this. \n"
   ]
  },
  {
   "cell_type": "markdown",
   "metadata": {},
   "source": [
    "## References\n",
    "\n",
    "<a id=\"1\">[1]</a> \n",
    "DuMouchel W, Pregibon D (2001). “Empirical Bayes Screening for Multi-item Associations.” In Proceedings of the Seventh ACM SIGKDD International Conference on Knowledge Discovery and Data Mining, KDD ’01, pp. 67-76. ACM, New York, NY, USA. ISBN 1-58113-391-X. https://doi.org/10.1145/502512.502526\n",
    "\n",
    "\n",
    "<a id=\"2\">[2]</a> \n",
    "Canida T, Ihrie J (2017). “openEBGM: An R Implementation of the Gamma-Poisson Shrinker Data Mining Model.” The R Journal, 9(2), 499-519. https://journal.r-project.org/archive/2017/RJ-2017-063/index.html\n",
    "\n",
    "<a id=\"3\">[3]</a> \n",
    "Bate A, Evans, S. Quantitative signal detection using spontaneous ADR reporting. Pharmacoepidemiol and Drug Saf 2009 Jun;18(6):427-36. doi: 10.1002/pds.1742."
   ]
  },
  {
   "cell_type": "code",
   "execution_count": null,
   "metadata": {},
   "outputs": [],
   "source": []
  }
 ],
 "metadata": {
  "kernelspec": {
   "display_name": "R",
   "language": "R",
   "name": "ir"
  },
  "language_info": {
   "codemirror_mode": "r",
   "file_extension": ".r",
   "mimetype": "text/x-r-source",
   "name": "R",
   "pygments_lexer": "r",
   "version": "4.0.2"
  },
  "toc": {
   "base_numbering": 1,
   "nav_menu": {},
   "number_sections": true,
   "sideBar": true,
   "skip_h1_title": false,
   "title_cell": "Table of Contents",
   "title_sidebar": "Contents",
   "toc_cell": false,
   "toc_position": {},
   "toc_section_display": true,
   "toc_window_display": false
  },
  "varInspector": {
   "cols": {
    "lenName": 16,
    "lenType": 16,
    "lenVar": 40
   },
   "kernels_config": {
    "python": {
     "delete_cmd_postfix": "",
     "delete_cmd_prefix": "del ",
     "library": "var_list.py",
     "varRefreshCmd": "print(var_dic_list())"
    },
    "r": {
     "delete_cmd_postfix": ") ",
     "delete_cmd_prefix": "rm(",
     "library": "var_list.r",
     "varRefreshCmd": "cat(var_dic_list()) "
    }
   },
   "types_to_exclude": [
    "module",
    "function",
    "builtin_function_or_method",
    "instance",
    "_Feature"
   ],
   "window_display": false
  }
 },
 "nbformat": 4,
 "nbformat_minor": 4
}
